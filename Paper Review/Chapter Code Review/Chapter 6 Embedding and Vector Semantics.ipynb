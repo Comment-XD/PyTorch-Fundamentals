{
 "cells": [
  {
   "cell_type": "markdown",
   "id": "a38dc1de-81d1-417a-af99-6722627315e1",
   "metadata": {},
   "source": [
    "### Embedding and Vector Semantics\n",
    "\n",
    "#### Table of Content\n",
    "1. 6.1 Lexical Semnatics\n",
    "2. \n"
   ]
  },
  {
   "cell_type": "code",
   "execution_count": null,
   "id": "246d93b1-9349-460f-9112-4742fdcea0e3",
   "metadata": {},
   "outputs": [],
   "source": [
    "# TF-IDF"
   ]
  }
 ],
 "metadata": {
  "kernelspec": {
   "display_name": "Python 3 (ipykernel)",
   "language": "python",
   "name": "python3"
  },
  "language_info": {
   "codemirror_mode": {
    "name": "ipython",
    "version": 3
   },
   "file_extension": ".py",
   "mimetype": "text/x-python",
   "name": "python",
   "nbconvert_exporter": "python",
   "pygments_lexer": "ipython3",
   "version": "3.10.11"
  }
 },
 "nbformat": 4,
 "nbformat_minor": 5
}
