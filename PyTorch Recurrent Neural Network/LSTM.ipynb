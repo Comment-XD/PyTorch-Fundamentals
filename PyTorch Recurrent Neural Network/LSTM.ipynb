{
 "cells": [
  {
   "cell_type": "markdown",
   "id": "3bb1ad40-93f1-4db5-a652-a1aad1266aa9",
   "metadata": {},
   "source": [
    "### LSTM\n",
    "***\n",
    "- LSTM(Long Short Term Memory) is a more enhanced RNN that is used to counteract the exploding/ vanishing gradient problems caused by a vanilla RNN (Recurrent Neural Network)\n",
    "\n",
    "1. **Notebook Summary:**\n",
    "- Inner Workings Behind LSTM\n",
    "- Different Applications of LSTM\n",
    "    - Stacked LSTM\n",
    "    - Parallel LSTM\n",
    "    - Bidirectional LSTM\n",
    "- PyTorch Example of LSTM"
   ]
  },
  {
   "cell_type": "code",
   "execution_count": 1,
   "id": "980ffa52-aa75-4445-8824-ef20e9ef070c",
   "metadata": {},
   "outputs": [],
   "source": [
    "import torch\n",
    "import torch.nn as nn\n",
    "import torchinfo\n",
    "import numpy as np"
   ]
  },
  {
   "cell_type": "markdown",
   "id": "cd159b14-922e-4d2c-b389-087ef84a8f5f",
   "metadata": {},
   "source": [
    "#### 3. Pytorch \n",
    "***\n",
    "**`nn.LSTM(input_size, hidden_state, num_layers)`**\n",
    "- `input_size`: the number of expect feature in the input x\n",
    "- `hidden_size`: the number of features in the hidden state\n",
    "- `num_layers`: the number of recurrent layers \n",
    "    <br></br>\n",
    "1. `.forward(inputs, hidden_state=torch.zeros(1, hidden_state)))`\n",
    "- forward has two inputs, the previous activation layer and the input values\n",
    "- for the previous activation layer, when set to a dimension, create a zero vector of that dimension as its default value\n",
    "   - inputs: represents the data you want to look through"
   ]
  },
  {
   "cell_type": "code",
   "execution_count": 3,
   "id": "fe448d51-be8a-4c3d-9910-55c6cdeb34aa",
   "metadata": {},
   "outputs": [],
   "source": [
    "torch.manual_seed(42)\n",
    "data = torch.rand(30, 2)"
   ]
  },
  {
   "cell_type": "code",
   "execution_count": 6,
   "id": "0cccaf26-9117-4ef6-9ef8-e6594ebbcdad",
   "metadata": {},
   "outputs": [
    {
     "data": {
      "text/plain": [
       "(tensor([[-0.1820],\n",
       "         [-0.2777],\n",
       "         [-0.2803],\n",
       "         [-0.3054],\n",
       "         [-0.1888],\n",
       "         [-0.1919],\n",
       "         [-0.2007],\n",
       "         [-0.2140],\n",
       "         [-0.2003],\n",
       "         [-0.2898],\n",
       "         [-0.2943],\n",
       "         [-0.3001],\n",
       "         [-0.3193],\n",
       "         [-0.2736],\n",
       "         [-0.2303],\n",
       "         [-0.1745],\n",
       "         [-0.1956],\n",
       "         [-0.2829],\n",
       "         [-0.2583],\n",
       "         [-0.2460],\n",
       "         [-0.2307],\n",
       "         [-0.2346],\n",
       "         [-0.2078],\n",
       "         [-0.2126],\n",
       "         [-0.2049],\n",
       "         [-0.3162],\n",
       "         [-0.3306],\n",
       "         [-0.2495],\n",
       "         [-0.2343],\n",
       "         [-0.1874]], grad_fn=<SqueezeBackward1>),\n",
       " (tensor([[-0.1874]], grad_fn=<SqueezeBackward1>),\n",
       "  tensor([[-0.4414]], grad_fn=<SqueezeBackward1>)))"
      ]
     },
     "execution_count": 6,
     "metadata": {},
     "output_type": "execute_result"
    }
   ],
   "source": [
    "lstm = nn.LSTM(3, 1)\n",
    "lstm.state_dict()[\"weight_ih_l0\"].shape # [4 x 10, 1]\n",
    "lstm.state_dict()[\"weight_hh_l0\"].shape # [4 x 10, 10]\n",
    "lstm.state_dict()['bias_ih_l0'].shape # [4 x 10]\n",
    "lstm.state_dict()['bias_hh_l0'].shape # [4 x 10]\n",
    "\n",
    "lstm.forward(torch.Tensor(data))"
   ]
  },
  {
   "cell_type": "markdown",
   "id": "e8dfb725-dd88-40f5-97c8-e23817cb127e",
   "metadata": {},
   "source": [
    "#### "
   ]
  }
 ],
 "metadata": {
  "kernelspec": {
   "display_name": "Python 3 (ipykernel)",
   "language": "python",
   "name": "python3"
  },
  "language_info": {
   "codemirror_mode": {
    "name": "ipython",
    "version": 3
   },
   "file_extension": ".py",
   "mimetype": "text/x-python",
   "name": "python",
   "nbconvert_exporter": "python",
   "pygments_lexer": "ipython3",
   "version": "3.10.11"
  }
 },
 "nbformat": 4,
 "nbformat_minor": 5
}
