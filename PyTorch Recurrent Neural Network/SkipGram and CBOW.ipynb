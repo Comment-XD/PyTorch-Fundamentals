{
 "cells": [
  {
   "cell_type": "code",
   "execution_count": 3,
   "id": "ee8df879-6040-4224-9ffa-3a930b56308d",
   "metadata": {},
   "outputs": [
    {
     "data": {
      "text/plain": [
       "'cuda'"
      ]
     },
     "execution_count": 3,
     "metadata": {},
     "output_type": "execute_result"
    }
   ],
   "source": [
    "import numpy as np\n",
    "import nltk\n",
    "\n",
    "import numpy as np\n",
    "from tqdm.notebook import tqdm\n",
    "\n",
    "device = \"cuda\" if torch.cuda.is_available() else \"cpu\"\n",
    "device"
   ]
  },
  {
   "cell_type": "code",
   "execution_count": 4,
   "id": "d7354611-8197-4f7f-8adb-ad434551d6ea",
   "metadata": {},
   "outputs": [],
   "source": [
    "def remove_stop_words(data):\n",
    "    stop_words = [\"is\", \"a\", \"has\", \"an\"]\n",
    "\n",
    "    removed_stop_words_list = []\n",
    "    \n",
    "    for i, _ in enumerate(data):\n",
    "        removed_stop_words_list.append([word for word in data[i].replace(\"\\n\", \"\").split(\" \") if word not in stop_words])\n",
    "\n",
    "    return removed_stop_words_list\n",
    "                \n",
    "def bigrams(data):\n",
    "    bigram_list = []\n",
    "\n",
    "    for _, word in enumerate(data):\n",
    "        for j in range(len(word) - 1):\n",
    "            bigram_list.append(word[j : j+2])\n",
    "    \n",
    "    return bigram_list\n",
    "\n",
    "def vocabulary(bigram_data):\n",
    "    vocab_list = []\n",
    "    for bigram in bigram_data:\n",
    "        vocab_list.extend(bigram)\n",
    "\n",
    "    return list(set(vocab_list))\n",
    "\n",
    "def one_hot_encoder(vocab_data, bigram_data):\n",
    "    one_hot_values = {}\n",
    "    bigram_one_hot_list = []\n",
    "    for i, key in enumerate(vocab_data):\n",
    "        one_hot_values[key] = [0 if i != j else 1 for j in range(len(vocab_data))]\n",
    "\n",
    "    print(\"One Hot Encoder\\n------------\\n\")\n",
    "    print(np.array([f\"{key}: {value}\" for key, value in one_hot_values.items()]))\n",
    "    for (X,y) in enumerate(bigram_data):\n",
    "        bigram_one_hot_list.append([one_hot_values[X], one_hot_values[y]])\n",
    "\n",
    "    return np.array(bigram_one_hot_list)"
   ]
  },
  {
   "cell_type": "code",
   "execution_count": null,
   "id": "408f1863-a7b8-41cf-a196-94b51458ec45",
   "metadata": {},
   "outputs": [],
   "source": []
  }
 ],
 "metadata": {
  "kernelspec": {
   "display_name": "Python 3 (ipykernel)",
   "language": "python",
   "name": "python3"
  },
  "language_info": {
   "codemirror_mode": {
    "name": "ipython",
    "version": 3
   },
   "file_extension": ".py",
   "mimetype": "text/x-python",
   "name": "python",
   "nbconvert_exporter": "python",
   "pygments_lexer": "ipython3",
   "version": "3.10.11"
  }
 },
 "nbformat": 4,
 "nbformat_minor": 5
}
