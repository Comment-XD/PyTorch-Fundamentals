{
 "cells": [
  {
   "cell_type": "markdown",
   "id": "1caef77d-97c0-48c6-ac59-b43b2f9b2241",
   "metadata": {},
   "source": [
    "# Word Embedding\n",
    "***\n",
    "\n",
    "- Word embedding is a method used to find relations between vectors\n",
    "- Typically defined as a way to convert words to context vectors\n",
    "- Vectors that are similar, means the words are similar in context :D\n",
    "\n",
    "**Preprocessing**\n",
    "1. `Load in Data`\n",
    "2. `Remove Stop Words`\n",
    "3. `Convert to Bigram`\n",
    "4. `Convert Bigram to One-Hot-Encodings`\n",
    "\n",
    "**Training**\n",
    "1. `Split Bigram to Train, Test Data`\n",
    "2. `Create Linear Model`\n",
    "3. `Obtain Weights After Training`\n",
    "4. `Vizualize Points`"
   ]
  },
  {
   "cell_type": "code",
   "execution_count": 9,
   "id": "e2064474-61c5-4c98-9bea-9ae7706449a8",
   "metadata": {},
   "outputs": [
    {
     "data": {
      "text/plain": [
       "'cuda'"
      ]
     },
     "execution_count": 9,
     "metadata": {},
     "output_type": "execute_result"
    }
   ],
   "source": [
    "import torch\n",
    "import torch.nn as nn\n",
    "\n",
    "import pandas as pd\n",
    "import numpy as np\n",
    "import nltk\n",
    "\n",
    "from tqdm.notebook import tqdm\n",
    "\n",
    "device = \"cuda\" if torch.cuda.is_available() else \"cpu\"\n",
    "device"
   ]
  },
  {
   "cell_type": "code",
   "execution_count": 10,
   "id": "4d61f7c9-f951-47ec-a164-542d1f3f121c",
   "metadata": {},
   "outputs": [],
   "source": [
    "def remove_stop_words(data):\n",
    "    stop_words = [\"is\", \"a\", \"has\", \"an\"]\n",
    "\n",
    "    removed_stop_words_list = []\n",
    "    \n",
    "    for i, _ in enumerate(data):\n",
    "        removed_stop_words_list.append([word for word in data[i].replace(\"\\n\", \"\").split(\" \") if word not in stop_words])\n",
    "\n",
    "    return removed_stop_words_list\n",
    "                \n",
    "def bigrams(data):\n",
    "    bigram_list = []\n",
    "\n",
    "    for _, word in enumerate(data):\n",
    "        for j in range(len(word) - 1):\n",
    "            bigram_list.append(word[j : j+2])\n",
    "    \n",
    "    return bigram_list\n",
    "\n",
    "def vocabulary(bigram_data):\n",
    "    vocab_list = []\n",
    "    for bigram in bigram_data:\n",
    "        vocab_list.extend(bigram)\n",
    "\n",
    "    return list(set(vocab_list))\n",
    "\n",
    "def one_hot_encoder(vocab_data, bigram_data):\n",
    "    one_hot_values = {}\n",
    "    bigram_one_hot_list = []\n",
    "    for i, key in enumerate(vocab_data):\n",
    "        one_hot_values[key] = [0 if i != j else 1 for j in range(len(vocab_data))]\n",
    "\n",
    "    print(\"One Hot Encoder\\n------------\\n\")\n",
    "    print(np.array([f\"{key}: {value}\" for key, value in one_hot_values.items()]))\n",
    "    for i, (X,y) in enumerate(bigram_data):\n",
    "        # print(bigram_data[i])\n",
    "        bigram_one_hot_list.append([one_hot_values[X], one_hot_values[y]])\n",
    "\n",
    "    return np.array(bigram_one_hot_list)"
   ]
  },
  {
   "cell_type": "markdown",
   "id": "93a45e4d-25a0-4ce6-b75c-85baec5428da",
   "metadata": {},
   "source": [
    "#### Preprocessing\n",
    "1. Load in Data\n",
    "   - Using a default txt file with a bunch of names and adjectives\n",
    "   - Python's **`open()`** function will open the text file\n",
    "   - **`readlines()`** function will split the text file by new line\n"
   ]
  },
  {
   "cell_type": "code",
   "execution_count": 11,
   "id": "4ee40209-8c3e-4525-9061-54aa8c6e288f",
   "metadata": {},
   "outputs": [],
   "source": [
    "file = open(\"text_data.txt\", \"r\")\n",
    "data = file.readlines()"
   ]
  },
  {
   "cell_type": "markdown",
   "id": "3f9cf882-1571-457e-8d5f-b8f6ba6f3ca3",
   "metadata": {},
   "source": [
    "2. Remove Stop Words\n",
    "   - Using our built function **`remove_stop_words()`**, it cleans the sentence (removes \"\\n\")\n",
    "   - Then, removes stop words (\"is\", \"a\", \"an\", \"has\") from the sentence"
   ]
  },
  {
   "cell_type": "code",
   "execution_count": 12,
   "id": "42e39f1b-5e16-42ab-a773-82eaa4d71c3f",
   "metadata": {},
   "outputs": [
    {
     "data": {
      "text/plain": [
       "[['Branden', 'good', 'person'],\n",
       " ['Shlok', 'great', 'man'],\n",
       " ['Jason', 'nice', 'person'],\n",
       " ['David', 'bad', 'human'],\n",
       " ['Chris', 'great', 'personality'],\n",
       " ['Sara', 'interesting', 'woman']]"
      ]
     },
     "execution_count": 12,
     "metadata": {},
     "output_type": "execute_result"
    }
   ],
   "source": [
    "cleaned_data = remove_stop_words(data)\n",
    "cleaned_data"
   ]
  },
  {
   "cell_type": "markdown",
   "id": "5f06f4b6-8ad5-469f-8302-ff16bdfcfcd6",
   "metadata": {},
   "source": [
    "3. Bigrams\n",
    "   - Using our built function **`bigrams()`**, it converts our newly cleaned txt_data to bigrams\n",
    "   - We will use sliding window technique to get all the bigrams\n",
    "   <br></br>\n",
    "  \n",
    "**What is Bigrams**\n",
    "- A sequence of two words, the first value being the feature and the seconds value being the label\n",
    "- Example: \"I am great\" will become (\"I\", \"am\") and (\"am great\")\n",
    "      "
   ]
  },
  {
   "cell_type": "code",
   "execution_count": 13,
   "id": "44586499-2bcd-43eb-9592-e7f65a7c9175",
   "metadata": {},
   "outputs": [
    {
     "data": {
      "text/plain": [
       "[['Branden', 'good'],\n",
       " ['good', 'person'],\n",
       " ['Shlok', 'great'],\n",
       " ['great', 'man'],\n",
       " ['Jason', 'nice'],\n",
       " ['nice', 'person'],\n",
       " ['David', 'bad'],\n",
       " ['bad', 'human'],\n",
       " ['Chris', 'great'],\n",
       " ['great', 'personality'],\n",
       " ['Sara', 'interesting'],\n",
       " ['interesting', 'woman']]"
      ]
     },
     "execution_count": 13,
     "metadata": {},
     "output_type": "execute_result"
    }
   ],
   "source": [
    "bigram_data = bigrams(cleaned_data)\n",
    "vocab_data = vocabulary(bigram_data)\n",
    "\n",
    "bigram_data"
   ]
  },
  {
   "cell_type": "markdown",
   "id": "e9b67533-e4fa-4d25-8d38-2d93c8ee9faa",
   "metadata": {},
   "source": [
    "4. Convert Bigrams to One-Hot-Encodings\n",
    "   - Using our built function **`one_hot_encoder()`**, it cleans the sentence (removes \"\\n\")\n",
    "   - Then, removes stop words (\"is\", \"a\", \"an\", \"has\") from the sentence"
   ]
  },
  {
   "cell_type": "code",
   "execution_count": 14,
   "id": "5a989024-18ef-4ed2-ae16-9235497596f9",
   "metadata": {},
   "outputs": [
    {
     "name": "stdout",
     "output_type": "stream",
     "text": [
      "One Hot Encoder\n",
      "------------\n",
      "\n",
      "['Branden: [1, 0, 0, 0, 0, 0, 0, 0, 0, 0, 0, 0, 0, 0, 0, 0]'\n",
      " 'bad: [0, 1, 0, 0, 0, 0, 0, 0, 0, 0, 0, 0, 0, 0, 0, 0]'\n",
      " 'man: [0, 0, 1, 0, 0, 0, 0, 0, 0, 0, 0, 0, 0, 0, 0, 0]'\n",
      " 'Chris: [0, 0, 0, 1, 0, 0, 0, 0, 0, 0, 0, 0, 0, 0, 0, 0]'\n",
      " 'person: [0, 0, 0, 0, 1, 0, 0, 0, 0, 0, 0, 0, 0, 0, 0, 0]'\n",
      " 'David: [0, 0, 0, 0, 0, 1, 0, 0, 0, 0, 0, 0, 0, 0, 0, 0]'\n",
      " 'human: [0, 0, 0, 0, 0, 0, 1, 0, 0, 0, 0, 0, 0, 0, 0, 0]'\n",
      " 'interesting: [0, 0, 0, 0, 0, 0, 0, 1, 0, 0, 0, 0, 0, 0, 0, 0]'\n",
      " 'personality: [0, 0, 0, 0, 0, 0, 0, 0, 1, 0, 0, 0, 0, 0, 0, 0]'\n",
      " 'Sara: [0, 0, 0, 0, 0, 0, 0, 0, 0, 1, 0, 0, 0, 0, 0, 0]'\n",
      " 'Shlok: [0, 0, 0, 0, 0, 0, 0, 0, 0, 0, 1, 0, 0, 0, 0, 0]'\n",
      " 'good: [0, 0, 0, 0, 0, 0, 0, 0, 0, 0, 0, 1, 0, 0, 0, 0]'\n",
      " 'nice: [0, 0, 0, 0, 0, 0, 0, 0, 0, 0, 0, 0, 1, 0, 0, 0]'\n",
      " 'Jason: [0, 0, 0, 0, 0, 0, 0, 0, 0, 0, 0, 0, 0, 1, 0, 0]'\n",
      " 'great: [0, 0, 0, 0, 0, 0, 0, 0, 0, 0, 0, 0, 0, 0, 1, 0]'\n",
      " 'woman: [0, 0, 0, 0, 0, 0, 0, 0, 0, 0, 0, 0, 0, 0, 0, 1]']\n"
     ]
    },
    {
     "data": {
      "text/plain": [
       "array([[[1, 0, 0, 0, 0, 0, 0, 0, 0, 0, 0, 0, 0, 0, 0, 0],\n",
       "        [0, 0, 0, 0, 0, 0, 0, 0, 0, 0, 0, 1, 0, 0, 0, 0]],\n",
       "\n",
       "       [[0, 0, 0, 0, 0, 0, 0, 0, 0, 0, 0, 1, 0, 0, 0, 0],\n",
       "        [0, 0, 0, 0, 1, 0, 0, 0, 0, 0, 0, 0, 0, 0, 0, 0]],\n",
       "\n",
       "       [[0, 0, 0, 0, 0, 0, 0, 0, 0, 0, 1, 0, 0, 0, 0, 0],\n",
       "        [0, 0, 0, 0, 0, 0, 0, 0, 0, 0, 0, 0, 0, 0, 1, 0]],\n",
       "\n",
       "       [[0, 0, 0, 0, 0, 0, 0, 0, 0, 0, 0, 0, 0, 0, 1, 0],\n",
       "        [0, 0, 1, 0, 0, 0, 0, 0, 0, 0, 0, 0, 0, 0, 0, 0]],\n",
       "\n",
       "       [[0, 0, 0, 0, 0, 0, 0, 0, 0, 0, 0, 0, 0, 1, 0, 0],\n",
       "        [0, 0, 0, 0, 0, 0, 0, 0, 0, 0, 0, 0, 1, 0, 0, 0]],\n",
       "\n",
       "       [[0, 0, 0, 0, 0, 0, 0, 0, 0, 0, 0, 0, 1, 0, 0, 0],\n",
       "        [0, 0, 0, 0, 1, 0, 0, 0, 0, 0, 0, 0, 0, 0, 0, 0]],\n",
       "\n",
       "       [[0, 0, 0, 0, 0, 1, 0, 0, 0, 0, 0, 0, 0, 0, 0, 0],\n",
       "        [0, 1, 0, 0, 0, 0, 0, 0, 0, 0, 0, 0, 0, 0, 0, 0]],\n",
       "\n",
       "       [[0, 1, 0, 0, 0, 0, 0, 0, 0, 0, 0, 0, 0, 0, 0, 0],\n",
       "        [0, 0, 0, 0, 0, 0, 1, 0, 0, 0, 0, 0, 0, 0, 0, 0]],\n",
       "\n",
       "       [[0, 0, 0, 1, 0, 0, 0, 0, 0, 0, 0, 0, 0, 0, 0, 0],\n",
       "        [0, 0, 0, 0, 0, 0, 0, 0, 0, 0, 0, 0, 0, 0, 1, 0]],\n",
       "\n",
       "       [[0, 0, 0, 0, 0, 0, 0, 0, 0, 0, 0, 0, 0, 0, 1, 0],\n",
       "        [0, 0, 0, 0, 0, 0, 0, 0, 1, 0, 0, 0, 0, 0, 0, 0]],\n",
       "\n",
       "       [[0, 0, 0, 0, 0, 0, 0, 0, 0, 1, 0, 0, 0, 0, 0, 0],\n",
       "        [0, 0, 0, 0, 0, 0, 0, 1, 0, 0, 0, 0, 0, 0, 0, 0]],\n",
       "\n",
       "       [[0, 0, 0, 0, 0, 0, 0, 1, 0, 0, 0, 0, 0, 0, 0, 0],\n",
       "        [0, 0, 0, 0, 0, 0, 0, 0, 0, 0, 0, 0, 0, 0, 0, 1]]])"
      ]
     },
     "execution_count": 14,
     "metadata": {},
     "output_type": "execute_result"
    }
   ],
   "source": [
    "train_data = one_hot_encoder(vocab_data, bigram_data)\n",
    "train_data"
   ]
  },
  {
   "cell_type": "markdown",
   "id": "8c7e3598-1077-416a-b39a-2ddc866297e8",
   "metadata": {},
   "source": [
    "#### Training\n",
    "1. Splitting the data into features and labsl\n",
    "   - Using **`numpy.array()`** to split the data by column\n",
    "   - `X` represents our features\n",
    "   - `y` represents our labels\n"
   ]
  },
  {
   "cell_type": "code",
   "execution_count": 15,
   "id": "22acc264-ee4f-45e4-b5c6-4f76b32f10f9",
   "metadata": {},
   "outputs": [],
   "source": [
    "X = train_data[:, 0]\n",
    "y = train_data[:, 1]"
   ]
  },
  {
   "cell_type": "markdown",
   "id": "26f0d0ea-0d05-470f-ba90-17a6b0226d9c",
   "metadata": {},
   "source": [
    "2. Creating the Model\n",
    "   - Using **`nn.Module`** to create our EmbeddingScratch Model\n",
    "\n",
    "**Attributes**\n",
    "- `vocab_size`: the total unique words in our bigrams\n",
    "- `embed_size`: the size of our word embeddings"
   ]
  },
  {
   "cell_type": "code",
   "execution_count": 16,
   "id": "ce3bcb95-6f43-4562-a2af-eeaabc71dce9",
   "metadata": {},
   "outputs": [],
   "source": [
    "class Embedding_Scratch(nn.Module):\n",
    "    def __init__(self, vocab_size, embed_size):\n",
    "        super().__init__()\n",
    "        \n",
    "        self.input_layer = nn.Linear(vocab_size, embed_size)\n",
    "        self.output_layer = nn.Linear(embed_size, vocab_size)\n",
    "\n",
    "    def forward(self, x):\n",
    "        x = self.input_layer(x)\n",
    "        return self.output_layer(x)\n"
   ]
  },
  {
   "cell_type": "markdown",
   "id": "2bd4f0d2-4c97-4bc2-8085-632a2f7ac707",
   "metadata": {},
   "source": [
    "3. Initializing the Optimizer and Loss Function\n",
    "    - Using Pytorch's **`nn.CrossEntropyLoss()`** and **`torch.optim.Adam()`** to create our loss function and optimization algorithm\n",
    "  \n",
    "   \n",
    "**Optimizer**\n",
    "- Adam Algorithm to optimize our model\n",
    "\n",
    "**Loss Function**\n",
    "- Cross Entropy Loss function to calculate the loss\n",
    "- We use Cross Entropy Loss because we are predicting categories (words in this case)"
   ]
  },
  {
   "cell_type": "code",
   "execution_count": 17,
   "id": "3cb12e27-f086-44f5-9571-d0882fb43f5d",
   "metadata": {},
   "outputs": [
    {
     "name": "stdout",
     "output_type": "stream",
     "text": [
      "16\n"
     ]
    }
   ],
   "source": [
    "vocab_size = y.shape[1]\n",
    "print(vocab_size)\n",
    "# -- Hyperparameter -- #\n",
    "EMBED_SIZE = 2\n",
    "LR = 0.01\n",
    "\n",
    "word_embedding_scratch = Embedding_Scratch(vocab_size, EMBED_SIZE)\n",
    "word_embedding_scratch.to(device) # sets the model into the gpu\n",
    "\n",
    "criterion = nn.CrossEntropyLoss()\n",
    "optimizer = torch.optim.Adam(params=word_embedding_scratch.parameters(), lr=LR)"
   ]
  },
  {
   "cell_type": "code",
   "execution_count": 20,
   "id": "07ef9d2e-8f1f-43f6-b95b-fba02ed89db6",
   "metadata": {},
   "outputs": [],
   "source": [
    "def train_model(model, X,y, criterion, optimizer, epoches):\n",
    "    for i in tqdm(range(epoches)):\n",
    "        train_loss = 0\n",
    "        \n",
    "        model.train()\n",
    "        for j, _ in enumerate(X):\n",
    "            y_pred = model(torch.Tensor(X[j]).to(device))\n",
    "            loss = criterion(y_pred, torch.Tensor(y[j]).to(device))\n",
    "            train_loss += loss\n",
    "\n",
    "            optimizer.zero_grad()\n",
    "            loss.backward()\n",
    "            optimizer.step()\n",
    "\n",
    "        train_loss /= len(X)\n",
    "        if i % 100 == 0 or i == epoches - 1:\n",
    "            print(f\"Epoch {i} - Train Loss {train_loss:.4f}\")\n",
    "    "
   ]
  },
  {
   "cell_type": "code",
   "execution_count": 21,
   "id": "febeeccf-ce66-4fcf-aaff-886637c99569",
   "metadata": {},
   "outputs": [
    {
     "data": {
      "application/vnd.jupyter.widget-view+json": {
       "model_id": "b86407a7467e41a4b5987f055bcd65dc",
       "version_major": 2,
       "version_minor": 0
      },
      "text/plain": [
       "  0%|          | 0/1000 [00:00<?, ?it/s]"
      ]
     },
     "metadata": {},
     "output_type": "display_data"
    },
    {
     "name": "stdout",
     "output_type": "stream",
     "text": [
      "Epoch 0 - Train Loss 2.7425\n",
      "Epoch 100 - Train Loss 0.3660\n",
      "Epoch 200 - Train Loss 0.1749\n",
      "Epoch 300 - Train Loss 0.1393\n",
      "Epoch 400 - Train Loss 0.1282\n",
      "Epoch 500 - Train Loss 0.1236\n",
      "Epoch 600 - Train Loss 0.1213\n",
      "Epoch 700 - Train Loss 0.1200\n",
      "Epoch 800 - Train Loss 0.1192\n",
      "Epoch 900 - Train Loss 0.1186\n",
      "Epoch 999 - Train Loss 0.1181\n"
     ]
    }
   ],
   "source": [
    "train_model(word_embedding_scratch, X, y, criterion, optimizer, 1000)"
   ]
  },
  {
   "cell_type": "markdown",
   "id": "73904db7-fbfd-410d-a2e2-1f4691e7d4c8",
   "metadata": {},
   "source": [
    "4. Plotting and Visualizing the Context Vectors\n",
    "   - **`Pandas.DataFrame`** to create a dataframe of context vectors\n",
    "   - **`Seaborn`** to create a scatterplot of our context vectors\n",
    "   - **`Matplotlib.pyplot`** to create annotate and label our context vectors"
   ]
  },
  {
   "cell_type": "code",
   "execution_count": 22,
   "id": "ffafe0f1-2e59-44c7-86cc-f894759b8e10",
   "metadata": {},
   "outputs": [
    {
     "data": {
      "text/html": [
       "<div>\n",
       "<style scoped>\n",
       "    .dataframe tbody tr th:only-of-type {\n",
       "        vertical-align: middle;\n",
       "    }\n",
       "\n",
       "    .dataframe tbody tr th {\n",
       "        vertical-align: top;\n",
       "    }\n",
       "\n",
       "    .dataframe thead th {\n",
       "        text-align: right;\n",
       "    }\n",
       "</style>\n",
       "<table border=\"1\" class=\"dataframe\">\n",
       "  <thead>\n",
       "    <tr style=\"text-align: right;\">\n",
       "      <th></th>\n",
       "      <th>0</th>\n",
       "      <th>1</th>\n",
       "    </tr>\n",
       "  </thead>\n",
       "  <tbody>\n",
       "    <tr>\n",
       "      <th>Branden</th>\n",
       "      <td>1.449292</td>\n",
       "      <td>1.022213</td>\n",
       "    </tr>\n",
       "    <tr>\n",
       "      <th>bad</th>\n",
       "      <td>3.180907</td>\n",
       "      <td>3.878277</td>\n",
       "    </tr>\n",
       "    <tr>\n",
       "      <th>man</th>\n",
       "      <td>1.963861</td>\n",
       "      <td>-2.470642</td>\n",
       "    </tr>\n",
       "    <tr>\n",
       "      <th>Chris</th>\n",
       "      <td>1.469317</td>\n",
       "      <td>1.042998</td>\n",
       "    </tr>\n",
       "    <tr>\n",
       "      <th>person</th>\n",
       "      <td>-4.997764</td>\n",
       "      <td>3.189914</td>\n",
       "    </tr>\n",
       "    <tr>\n",
       "      <th>David</th>\n",
       "      <td>1.492886</td>\n",
       "      <td>1.039585</td>\n",
       "    </tr>\n",
       "    <tr>\n",
       "      <th>human</th>\n",
       "      <td>6.617612</td>\n",
       "      <td>2.562927</td>\n",
       "    </tr>\n",
       "    <tr>\n",
       "      <th>interesting</th>\n",
       "      <td>-2.799887</td>\n",
       "      <td>2.411041</td>\n",
       "    </tr>\n",
       "    <tr>\n",
       "      <th>personality</th>\n",
       "      <td>1.964943</td>\n",
       "      <td>-2.576770</td>\n",
       "    </tr>\n",
       "    <tr>\n",
       "      <th>Sara</th>\n",
       "      <td>1.428186</td>\n",
       "      <td>1.010209</td>\n",
       "    </tr>\n",
       "    <tr>\n",
       "      <th>Shlok</th>\n",
       "      <td>1.504297</td>\n",
       "      <td>1.015103</td>\n",
       "    </tr>\n",
       "    <tr>\n",
       "      <th>good</th>\n",
       "      <td>6.490878</td>\n",
       "      <td>0.269258</td>\n",
       "    </tr>\n",
       "    <tr>\n",
       "      <th>nice</th>\n",
       "      <td>-3.285043</td>\n",
       "      <td>-1.703426</td>\n",
       "    </tr>\n",
       "    <tr>\n",
       "      <th>Jason</th>\n",
       "      <td>1.506289</td>\n",
       "      <td>1.027506</td>\n",
       "    </tr>\n",
       "    <tr>\n",
       "      <th>great</th>\n",
       "      <td>-5.429153</td>\n",
       "      <td>0.341509</td>\n",
       "    </tr>\n",
       "    <tr>\n",
       "      <th>woman</th>\n",
       "      <td>-2.180106</td>\n",
       "      <td>4.706475</td>\n",
       "    </tr>\n",
       "  </tbody>\n",
       "</table>\n",
       "</div>"
      ],
      "text/plain": [
       "                    0         1\n",
       "Branden      1.449292  1.022213\n",
       "bad          3.180907  3.878277\n",
       "man          1.963861 -2.470642\n",
       "Chris        1.469317  1.042998\n",
       "person      -4.997764  3.189914\n",
       "David        1.492886  1.039585\n",
       "human        6.617612  2.562927\n",
       "interesting -2.799887  2.411041\n",
       "personality  1.964943 -2.576770\n",
       "Sara         1.428186  1.010209\n",
       "Shlok        1.504297  1.015103\n",
       "good         6.490878  0.269258\n",
       "nice        -3.285043 -1.703426\n",
       "Jason        1.506289  1.027506\n",
       "great       -5.429153  0.341509\n",
       "woman       -2.180106  4.706475"
      ]
     },
     "execution_count": 22,
     "metadata": {},
     "output_type": "execute_result"
    }
   ],
   "source": [
    "context_vectors = word_embedding_scratch.state_dict()[\"output_layer.weight\"]\n",
    "\n",
    "context_vector_df = pd.DataFrame(context_vectors.cpu().detach().numpy())\n",
    "context_vector_df.index = vocab_data\n",
    "\n",
    "context_vector_df"
   ]
  },
  {
   "cell_type": "code",
   "execution_count": 23,
   "id": "eea8cef3-eb68-4fc9-9f98-85918c14fda6",
   "metadata": {},
   "outputs": [
    {
     "data": {
      "image/png": "[encoded data removed]",
      "text/plain": [
       "<Figure size 1500x600 with 1 Axes>"
      ]
     },
     "metadata": {},
     "output_type": "display_data"
    }
   ],
   "source": [
    "import matplotlib.pyplot as plt\n",
    "import seaborn as sns\n",
    "import pandas as pd\n",
    "\n",
    "plt.figure(figsize=(15,6))\n",
    "embedding_graph = sns.scatterplot(data=context_vector_df, x=context_vector_df[0], y=context_vector_df[1])\n",
    "\n",
    "for i, word in enumerate(vocab_data):\n",
    "    data = context_vectors.cpu().detach().numpy()\n",
    "    embedding_graph.annotate(word, tuple(data[i]))"
   ]
  },
  {
   "cell_type": "code",
   "execution_count": null,
   "id": "2d04f02e-4042-4e86-b390-3af4c6d17cce",
   "metadata": {},
   "outputs": [],
   "source": [
    "embedding = nn.Embedding(16, 3)\n",
    "embedding.state_dict()"
   ]
  },
  {
   "cell_type": "code",
   "execution_count": null,
   "id": "535bf471-1976-46f2-8ad6-08737a8b920e",
   "metadata": {},
   "outputs": [],
   "source": [
    "# example_data = torch.arange(16)\n",
    "\n",
    "class Embedding(nn.Module):\n",
    "    def __init__(self, vocab_size, embed_size):\n",
    "        super().__init__()\n",
    "        self.l_0 = nn.Embedding(vocab_size, embed_size)\n",
    "        \n",
    "    def forward(self, x):\n",
    "        return self.l_0(x)"
   ]
  },
  {
   "cell_type": "code",
   "execution_count": null,
   "id": "50ab04be-e6ee-4f9a-9323-69cd3d537e38",
   "metadata": {},
   "outputs": [],
   "source": [
    "pytorch_embedding = Embedding(16, 3)\n",
    "pytorch_embedding.to(device)\n",
    "optimizer = torch.optim.Adam(params=pytorch_embedding.parameters(), lr=LR)\n",
    "train_model(pytorch_embedding, X, y, criterion, optimizer, 1000)"
   ]
  }
 ],
 "metadata": {
  "kernelspec": {
   "display_name": "Python 3 (ipykernel)",
   "language": "python",
   "name": "python3"
  },
  "language_info": {
   "codemirror_mode": {
    "name": "ipython",
    "version": 3
   },
   "file_extension": ".py",
   "mimetype": "text/x-python",
   "name": "python",
   "nbconvert_exporter": "python",
   "pygments_lexer": "ipython3",
   "version": "3.10.11"
  }
 },
 "nbformat": 4,
 "nbformat_minor": 5
}
