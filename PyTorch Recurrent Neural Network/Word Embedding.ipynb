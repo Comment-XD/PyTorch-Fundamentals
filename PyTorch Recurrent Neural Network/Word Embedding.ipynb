{
 "cells": [
  {
   "cell_type": "markdown",
   "id": "1caef77d-97c0-48c6-ac59-b43b2f9b2241",
   "metadata": {},
   "source": [
    "# Word Embedding\n",
    "***\n",
    "\n",
    "- Word embedding is a method used to find relations between vectors\n",
    "- Typically defined as a way to convert words to context vectors\n",
    "- Vectors that are similar, means the words are similar in context :D\n",
    "\n",
    "**Preprocessing**\n",
    "1. `Load in Data`\n",
    "2. `Remove Stop Words`\n",
    "3. `Convert to Bigram`\n",
    "4. `Convert Bigram to One-Hot-Encodings`\n",
    "\n",
    "**Training**\n",
    "1. `Split Bigram to Train, Test Data`\n",
    "2. `Create Linear Model`\n",
    "3. `Obtain Weights After Training`\n",
    "4. `Vizualize Points`"
   ]
  },
  {
   "cell_type": "code",
   "execution_count": 33,
   "id": "e2064474-61c5-4c98-9bea-9ae7706449a8",
   "metadata": {},
   "outputs": [
    {
     "name": "stderr",
     "output_type": "stream",
     "text": [
      "C:\\Users\\Brand\\AppData\\Local\\Temp\\ipykernel_5720\\208067942.py:4: DeprecationWarning: \n",
      "Pyarrow will become a required dependency of pandas in the next major release of pandas (pandas 3.0),\n",
      "(to allow more performant data types, such as the Arrow string type, and better interoperability with other libraries)\n",
      "but was not found to be installed on your system.\n",
      "If this would cause problems for you,\n",
      "please provide us feedback at https://github.com/pandas-dev/pandas/issues/54466\n",
      "        \n",
      "  import pandas as pd\n"
     ]
    },
    {
     "data": {
      "text/plain": [
       "'cuda'"
      ]
     },
     "execution_count": 33,
     "metadata": {},
     "output_type": "execute_result"
    }
   ],
   "source": [
    "import torch\n",
    "import torch.nn as nn\n",
    "\n",
    "import pandas as pd\n",
    "import numpy as np\n",
    "import nltk\n",
    "\n",
    "from tqdm.notebook import tqdm\n",
    "\n",
    "device = \"cuda\" if torch.cuda.is_available() else \"cpu\"\n",
    "device"
   ]
  },
  {
   "cell_type": "code",
   "execution_count": 22,
   "id": "4d61f7c9-f951-47ec-a164-542d1f3f121c",
   "metadata": {},
   "outputs": [],
   "source": [
    "def remove_stop_words(data):\n",
    "    stop_words = [\"is\", \"a\", \"has\", \"an\"]\n",
    "\n",
    "    removed_stop_words_list = []\n",
    "    \n",
    "    for i, _ in enumerate(data):\n",
    "        removed_stop_words_list.append([word for word in data[i].replace(\"\\n\", \"\").split(\" \") if word not in stop_words])\n",
    "\n",
    "    return removed_stop_words_list\n",
    "                \n",
    "def bigrams(data):\n",
    "    bigram_list = []\n",
    "\n",
    "    for _, word in enumerate(data):\n",
    "        for j in range(len(word) - 1):\n",
    "            bigram_list.append(word[j : j+2])\n",
    "    \n",
    "    return bigram_list\n",
    "\n",
    "def vocabulary(bigram_data):\n",
    "    vocab_list = []\n",
    "    for bigram in bigram_data:\n",
    "        vocab_list.extend(bigram)\n",
    "\n",
    "    return list(set(vocab_list))\n",
    "\n",
    "def one_hot_encoder(vocab_data, bigram_data):\n",
    "    one_hot_values = {}\n",
    "    bigram_one_hot_list = []\n",
    "    for i, key in enumerate(vocab_data):\n",
    "        one_hot_values[key] = [0 if i != j else 1 for j in range(len(vocab_data))]\n",
    "\n",
    "    print(\"One Hot Encoder\\n------------\\n\")\n",
    "    print(np.array([f\"{key}: {value}\" for key, value in one_hot_values.items()]))\n",
    "    for i, (X,y) in enumerate(bigram_data):\n",
    "        # print(bigram_data[i])\n",
    "        bigram_one_hot_list.append([one_hot_values[X], one_hot_values[y]])\n",
    "\n",
    "    return np.array(bigram_one_hot_list)"
   ]
  },
  {
   "cell_type": "markdown",
   "id": "93a45e4d-25a0-4ce6-b75c-85baec5428da",
   "metadata": {},
   "source": [
    "#### Preprocessing\n",
    "1. Load in Data\n",
    "   - Using a default txt file with a bunch of names and adjectives\n",
    "   - Python's **`open()`** function will open the text file\n",
    "   - **`readlines()`** function will split the text file by new line\n"
   ]
  },
  {
   "cell_type": "code",
   "execution_count": 23,
   "id": "4ee40209-8c3e-4525-9061-54aa8c6e288f",
   "metadata": {},
   "outputs": [],
   "source": [
    "file = open(\"text_data.txt\", \"r\")\n",
    "data = file.readlines()"
   ]
  },
  {
   "cell_type": "markdown",
   "id": "3f9cf882-1571-457e-8d5f-b8f6ba6f3ca3",
   "metadata": {},
   "source": [
    "2. Remove Stop Words\n",
    "   - Using our built function **`remove_stop_words()`**, it cleans the sentence (removes \"\\n\")\n",
    "   - Then, removes stop words (\"is\", \"a\", \"an\", \"has\") from the sentence"
   ]
  },
  {
   "cell_type": "code",
   "execution_count": 24,
   "id": "42e39f1b-5e16-42ab-a773-82eaa4d71c3f",
   "metadata": {},
   "outputs": [
    {
     "data": {
      "text/plain": [
       "[['Branden', 'good', 'person'],\n",
       " ['Shlok', 'great', 'man'],\n",
       " ['Jason', 'nice', 'person'],\n",
       " ['David', 'bad', 'human'],\n",
       " ['Chris', 'great', 'personality'],\n",
       " ['Sara', 'interesting', 'woman']]"
      ]
     },
     "execution_count": 24,
     "metadata": {},
     "output_type": "execute_result"
    }
   ],
   "source": [
    "cleaned_data = remove_stop_words(data)\n",
    "cleaned_data"
   ]
  },
  {
   "cell_type": "markdown",
   "id": "5f06f4b6-8ad5-469f-8302-ff16bdfcfcd6",
   "metadata": {},
   "source": [
    "3. Bigrams\n",
    "   - Using our built function **`bigrams()`**, it converts our newly cleaned txt_data to bigrams\n",
    "   - We will use sliding window technique to get all the bigrams\n",
    "   <br></br>\n",
    "  \n",
    "**What is Bigrams**\n",
    "- A sequence of two words, the first value being the feature and the seconds value being the label\n",
    "- Example: \"I am great\" will become (\"I\", \"am\") and (\"am great\")\n",
    "      "
   ]
  },
  {
   "cell_type": "code",
   "execution_count": 25,
   "id": "44586499-2bcd-43eb-9592-e7f65a7c9175",
   "metadata": {},
   "outputs": [
    {
     "data": {
      "text/plain": [
       "[['Branden', 'good'],\n",
       " ['good', 'person'],\n",
       " ['Shlok', 'great'],\n",
       " ['great', 'man'],\n",
       " ['Jason', 'nice'],\n",
       " ['nice', 'person'],\n",
       " ['David', 'bad'],\n",
       " ['bad', 'human'],\n",
       " ['Chris', 'great'],\n",
       " ['great', 'personality'],\n",
       " ['Sara', 'interesting'],\n",
       " ['interesting', 'woman']]"
      ]
     },
     "execution_count": 25,
     "metadata": {},
     "output_type": "execute_result"
    }
   ],
   "source": [
    "bigram_data = bigrams(cleaned_data)\n",
    "vocab_data = vocabulary(bigram_data)\n",
    "\n",
    "bigram_data"
   ]
  },
  {
   "cell_type": "markdown",
   "id": "e9b67533-e4fa-4d25-8d38-2d93c8ee9faa",
   "metadata": {},
   "source": [
    "4. Convert Bigrams to One-Hot-Encodings\n",
    "   - Using our built function **`one_hot_encoder()`**, it cleans the sentence (removes \"\\n\")\n",
    "   - Then, removes stop words (\"is\", \"a\", \"an\", \"has\") from the sentence"
   ]
  },
  {
   "cell_type": "code",
   "execution_count": 26,
   "id": "5a989024-18ef-4ed2-ae16-9235497596f9",
   "metadata": {},
   "outputs": [
    {
     "name": "stdout",
     "output_type": "stream",
     "text": [
      "One Hot Encoder\n",
      "------------\n",
      "\n",
      "['interesting: [1, 0, 0, 0, 0, 0, 0, 0, 0, 0, 0, 0, 0, 0, 0, 0]'\n",
      " 'great: [0, 1, 0, 0, 0, 0, 0, 0, 0, 0, 0, 0, 0, 0, 0, 0]'\n",
      " 'person: [0, 0, 1, 0, 0, 0, 0, 0, 0, 0, 0, 0, 0, 0, 0, 0]'\n",
      " 'personality: [0, 0, 0, 1, 0, 0, 0, 0, 0, 0, 0, 0, 0, 0, 0, 0]'\n",
      " 'Branden: [0, 0, 0, 0, 1, 0, 0, 0, 0, 0, 0, 0, 0, 0, 0, 0]'\n",
      " 'Sara: [0, 0, 0, 0, 0, 1, 0, 0, 0, 0, 0, 0, 0, 0, 0, 0]'\n",
      " 'David: [0, 0, 0, 0, 0, 0, 1, 0, 0, 0, 0, 0, 0, 0, 0, 0]'\n",
      " 'human: [0, 0, 0, 0, 0, 0, 0, 1, 0, 0, 0, 0, 0, 0, 0, 0]'\n",
      " 'Shlok: [0, 0, 0, 0, 0, 0, 0, 0, 1, 0, 0, 0, 0, 0, 0, 0]'\n",
      " 'Chris: [0, 0, 0, 0, 0, 0, 0, 0, 0, 1, 0, 0, 0, 0, 0, 0]'\n",
      " 'Jason: [0, 0, 0, 0, 0, 0, 0, 0, 0, 0, 1, 0, 0, 0, 0, 0]'\n",
      " 'bad: [0, 0, 0, 0, 0, 0, 0, 0, 0, 0, 0, 1, 0, 0, 0, 0]'\n",
      " 'woman: [0, 0, 0, 0, 0, 0, 0, 0, 0, 0, 0, 0, 1, 0, 0, 0]'\n",
      " 'nice: [0, 0, 0, 0, 0, 0, 0, 0, 0, 0, 0, 0, 0, 1, 0, 0]'\n",
      " 'man: [0, 0, 0, 0, 0, 0, 0, 0, 0, 0, 0, 0, 0, 0, 1, 0]'\n",
      " 'good: [0, 0, 0, 0, 0, 0, 0, 0, 0, 0, 0, 0, 0, 0, 0, 1]']\n"
     ]
    }
   ],
   "source": [
    "train_data = one_hot_encoder(vocab_data, bigram_data)"
   ]
  },
  {
   "cell_type": "markdown",
   "id": "8c7e3598-1077-416a-b39a-2ddc866297e8",
   "metadata": {},
   "source": [
    "#### Training\n",
    "1. Splitting the data into features and labsl\n",
    "   - Using **`numpy.array()`** to split the data by column\n",
    "   - `X` represents our features\n",
    "   - `y` represents our labels\n"
   ]
  },
  {
   "cell_type": "code",
   "execution_count": 27,
   "id": "22acc264-ee4f-45e4-b5c6-4f76b32f10f9",
   "metadata": {},
   "outputs": [],
   "source": [
    "X = train_data[:, 0]\n",
    "y = train_data[:, 1]"
   ]
  },
  {
   "cell_type": "markdown",
   "id": "26f0d0ea-0d05-470f-ba90-17a6b0226d9c",
   "metadata": {},
   "source": [
    "2. Creating the Model\n",
    "   - Using **`nn.Module`** to create our EmbeddingScratch Model\n",
    "\n",
    "**Attributes**\n",
    "- `vocab_size`: the total unique words in our bigrams\n",
    "- `embed_size`: the size of our word embeddings"
   ]
  },
  {
   "cell_type": "code",
   "execution_count": 28,
   "id": "ce3bcb95-6f43-4562-a2af-eeaabc71dce9",
   "metadata": {},
   "outputs": [],
   "source": [
    "class Embedding_Scratch(nn.Module):\n",
    "    def __init__(self, vocab_size, embed_size):\n",
    "        super().__init__()\n",
    "        \n",
    "        self.input_layer = nn.Linear(vocab_size, embed_size)\n",
    "        self.output_layer = nn.Linear(embed_size, vocab_size)\n",
    "\n",
    "    def forward(self, x):\n",
    "        x = self.input_layer(x)\n",
    "        return self.output_layer(x)\n"
   ]
  },
  {
   "cell_type": "markdown",
   "id": "2bd4f0d2-4c97-4bc2-8085-632a2f7ac707",
   "metadata": {},
   "source": [
    "3. Initializing the Optimizer and Loss Function\n",
    "    - Using Pytorch's **`nn.CrossEntropyLoss()`** and **`torch.optim.Adam()`** to create our loss function and optimization algorithm\n",
    "  \n",
    "   \n",
    "**Optimizer**\n",
    "- Adam Algorithm to optimize our model\n",
    "\n",
    "**Loss Function**\n",
    "- Cross Entropy Loss function to calculate the loss\n",
    "- We use Cross Entropy Loss because we are predicting categories (words in this case)"
   ]
  },
  {
   "cell_type": "code",
   "execution_count": 36,
   "id": "3cb12e27-f086-44f5-9571-d0882fb43f5d",
   "metadata": {},
   "outputs": [
    {
     "name": "stdout",
     "output_type": "stream",
     "text": [
      "16\n"
     ]
    }
   ],
   "source": [
    "vocab_size = y.shape[1]\n",
    "print(vocab_size)\n",
    "# -- Hyperparameter -- #\n",
    "EMBED_SIZE = 3\n",
    "LR = 0.01\n",
    "\n",
    "word_embedding_scratch = Embedding_Scratch(vocab_size, EMBED_SIZE)\n",
    "word_embedding_scratch.to(device) # sets the model into the gpu\n",
    "\n",
    "criterion = nn.CrossEntropyLoss()\n",
    "optimizer = torch.optim.Adam(params=word_embedding_scratch.parameters(), lr=LR)"
   ]
  },
  {
   "cell_type": "code",
   "execution_count": 56,
   "id": "07ef9d2e-8f1f-43f6-b95b-fba02ed89db6",
   "metadata": {},
   "outputs": [],
   "source": [
    "def train_model(model, X,y, criterion, optimizer, epoches):\n",
    "    for i in tqdm(range(epoches)):\n",
    "        train_loss = 0\n",
    "        \n",
    "        model.train()\n",
    "        for j, _ in enumerate(X):\n",
    "            y_pred = model(torch.IntTensor(X[j]).to(device))\n",
    "            loss = criterion(y_pred, torch.Tensor(y[j]).to(device))\n",
    "            train_loss += loss\n",
    "\n",
    "            optimizer.zero_grad()\n",
    "            loss.backward()\n",
    "            optimizer.step()\n",
    "\n",
    "        train_loss /= len(X)\n",
    "        if i % 100 == 0 or i == epoches - 1:\n",
    "            print(f\"Epoch {i} - Train Loss {train_loss:.4f}\")\n",
    "    "
   ]
  },
  {
   "cell_type": "code",
   "execution_count": 38,
   "id": "febeeccf-ce66-4fcf-aaff-886637c99569",
   "metadata": {},
   "outputs": [
    {
     "data": {
      "application/vnd.jupyter.widget-view+json": {
       "model_id": "a9be3dfb528a4cd9b9260bee097391e6",
       "version_major": 2,
       "version_minor": 0
      },
      "text/plain": [
       "  0%|          | 0/1000 [00:00<?, ?it/s]"
      ]
     },
     "metadata": {},
     "output_type": "display_data"
    },
    {
     "name": "stdout",
     "output_type": "stream",
     "text": [
      "Epoch 0 - Train Loss 2.8747\n",
      "Epoch 100 - Train Loss 0.1458\n",
      "Epoch 200 - Train Loss 0.1250\n",
      "Epoch 300 - Train Loss 0.1216\n",
      "Epoch 400 - Train Loss 0.1201\n",
      "Epoch 500 - Train Loss 0.1192\n",
      "Epoch 600 - Train Loss 0.1186\n",
      "Epoch 700 - Train Loss 0.1181\n",
      "Epoch 800 - Train Loss 0.1177\n",
      "Epoch 900 - Train Loss 0.1174\n",
      "Epoch 999 - Train Loss 0.1171\n"
     ]
    }
   ],
   "source": [
    "train_model(word_embedding_scratch, X, y, criterion, optimizer, 1000)"
   ]
  },
  {
   "cell_type": "markdown",
   "id": "73904db7-fbfd-410d-a2e2-1f4691e7d4c8",
   "metadata": {},
   "source": [
    "4. Plotting and Visualizing the Context Vectors\n",
    "   - **`Pandas.DataFrame`** to create a dataframe of context vectors\n",
    "   - **`Seaborn`** to create a scatterplot of our context vectors\n",
    "   - **`Matplotlib.pyplot`** to create annotate and label our context vectors"
   ]
  },
  {
   "cell_type": "code",
   "execution_count": 39,
   "id": "ffafe0f1-2e59-44c7-86cc-f894759b8e10",
   "metadata": {},
   "outputs": [
    {
     "data": {
      "text/html": [
       "<div>\n",
       "<style scoped>\n",
       "    .dataframe tbody tr th:only-of-type {\n",
       "        vertical-align: middle;\n",
       "    }\n",
       "\n",
       "    .dataframe tbody tr th {\n",
       "        vertical-align: top;\n",
       "    }\n",
       "\n",
       "    .dataframe thead th {\n",
       "        text-align: right;\n",
       "    }\n",
       "</style>\n",
       "<table border=\"1\" class=\"dataframe\">\n",
       "  <thead>\n",
       "    <tr style=\"text-align: right;\">\n",
       "      <th></th>\n",
       "      <th>0</th>\n",
       "      <th>1</th>\n",
       "      <th>2</th>\n",
       "    </tr>\n",
       "  </thead>\n",
       "  <tbody>\n",
       "    <tr>\n",
       "      <th>interesting</th>\n",
       "      <td>2.009850</td>\n",
       "      <td>-4.984304</td>\n",
       "      <td>-6.003368</td>\n",
       "    </tr>\n",
       "    <tr>\n",
       "      <th>great</th>\n",
       "      <td>-4.320120</td>\n",
       "      <td>-4.624294</td>\n",
       "      <td>-0.655854</td>\n",
       "    </tr>\n",
       "    <tr>\n",
       "      <th>person</th>\n",
       "      <td>1.773709</td>\n",
       "      <td>-2.901454</td>\n",
       "      <td>3.198857</td>\n",
       "    </tr>\n",
       "    <tr>\n",
       "      <th>personality</th>\n",
       "      <td>1.294889</td>\n",
       "      <td>1.491018</td>\n",
       "      <td>-1.300258</td>\n",
       "    </tr>\n",
       "    <tr>\n",
       "      <th>Branden</th>\n",
       "      <td>-1.424791</td>\n",
       "      <td>-4.430124</td>\n",
       "      <td>-1.150826</td>\n",
       "    </tr>\n",
       "    <tr>\n",
       "      <th>Sara</th>\n",
       "      <td>-1.483765</td>\n",
       "      <td>-4.400043</td>\n",
       "      <td>-1.276718</td>\n",
       "    </tr>\n",
       "    <tr>\n",
       "      <th>David</th>\n",
       "      <td>-1.430115</td>\n",
       "      <td>-4.445275</td>\n",
       "      <td>-1.217248</td>\n",
       "    </tr>\n",
       "    <tr>\n",
       "      <th>human</th>\n",
       "      <td>-2.883605</td>\n",
       "      <td>-2.803594</td>\n",
       "      <td>2.371482</td>\n",
       "    </tr>\n",
       "    <tr>\n",
       "      <th>Shlok</th>\n",
       "      <td>-1.554888</td>\n",
       "      <td>-4.360596</td>\n",
       "      <td>-1.249657</td>\n",
       "    </tr>\n",
       "    <tr>\n",
       "      <th>Chris</th>\n",
       "      <td>-1.478031</td>\n",
       "      <td>-4.410026</td>\n",
       "      <td>-1.187339</td>\n",
       "    </tr>\n",
       "    <tr>\n",
       "      <th>Jason</th>\n",
       "      <td>-1.532624</td>\n",
       "      <td>-4.357460</td>\n",
       "      <td>-1.205979</td>\n",
       "    </tr>\n",
       "    <tr>\n",
       "      <th>bad</th>\n",
       "      <td>3.522005</td>\n",
       "      <td>-5.027224</td>\n",
       "      <td>-0.404199</td>\n",
       "    </tr>\n",
       "    <tr>\n",
       "      <th>woman</th>\n",
       "      <td>-3.208130</td>\n",
       "      <td>-3.833751</td>\n",
       "      <td>-6.298779</td>\n",
       "    </tr>\n",
       "    <tr>\n",
       "      <th>nice</th>\n",
       "      <td>-5.080138</td>\n",
       "      <td>-1.354391</td>\n",
       "      <td>-1.572164</td>\n",
       "    </tr>\n",
       "    <tr>\n",
       "      <th>man</th>\n",
       "      <td>1.295600</td>\n",
       "      <td>1.505960</td>\n",
       "      <td>-1.300104</td>\n",
       "    </tr>\n",
       "    <tr>\n",
       "      <th>good</th>\n",
       "      <td>-0.357907</td>\n",
       "      <td>-5.163614</td>\n",
       "      <td>1.927809</td>\n",
       "    </tr>\n",
       "  </tbody>\n",
       "</table>\n",
       "</div>"
      ],
      "text/plain": [
       "                    0         1         2\n",
       "interesting  2.009850 -4.984304 -6.003368\n",
       "great       -4.320120 -4.624294 -0.655854\n",
       "person       1.773709 -2.901454  3.198857\n",
       "personality  1.294889  1.491018 -1.300258\n",
       "Branden     -1.424791 -4.430124 -1.150826\n",
       "Sara        -1.483765 -4.400043 -1.276718\n",
       "David       -1.430115 -4.445275 -1.217248\n",
       "human       -2.883605 -2.803594  2.371482\n",
       "Shlok       -1.554888 -4.360596 -1.249657\n",
       "Chris       -1.478031 -4.410026 -1.187339\n",
       "Jason       -1.532624 -4.357460 -1.205979\n",
       "bad          3.522005 -5.027224 -0.404199\n",
       "woman       -3.208130 -3.833751 -6.298779\n",
       "nice        -5.080138 -1.354391 -1.572164\n",
       "man          1.295600  1.505960 -1.300104\n",
       "good        -0.357907 -5.163614  1.927809"
      ]
     },
     "execution_count": 39,
     "metadata": {},
     "output_type": "execute_result"
    }
   ],
   "source": [
    "context_vectors = word_embedding_scratch.state_dict()[\"output_layer.weight\"]\n",
    "\n",
    "context_vector_df = pd.DataFrame(context_vectors.cpu().detach().numpy())\n",
    "context_vector_df.index = vocab_data\n",
    "\n",
    "context_vector_df"
   ]
  },
  {
   "cell_type": "code",
   "execution_count": 40,
   "id": "eea8cef3-eb68-4fc9-9f98-85918c14fda6",
   "metadata": {},
   "outputs": [
    {
     "ename": "ValueError",
     "evalue": "too many values to unpack (expected 2)",
     "output_type": "error",
     "traceback": [
      "\u001b[1;31m---------------------------------------------------------------------------\u001b[0m",
      "\u001b[1;31mValueError\u001b[0m                                Traceback (most recent call last)",
      "Cell \u001b[1;32mIn[40], line 10\u001b[0m\n\u001b[0;32m      8\u001b[0m \u001b[38;5;28;01mfor\u001b[39;00m i, word \u001b[38;5;129;01min\u001b[39;00m \u001b[38;5;28menumerate\u001b[39m(vocab_data):\n\u001b[0;32m      9\u001b[0m     data \u001b[38;5;241m=\u001b[39m context_vectors\u001b[38;5;241m.\u001b[39mcpu()\u001b[38;5;241m.\u001b[39mdetach()\u001b[38;5;241m.\u001b[39mnumpy()\n\u001b[1;32m---> 10\u001b[0m     \u001b[43membedding_graph\u001b[49m\u001b[38;5;241;43m.\u001b[39;49m\u001b[43mannotate\u001b[49m\u001b[43m(\u001b[49m\u001b[43mword\u001b[49m\u001b[43m,\u001b[49m\u001b[43m \u001b[49m\u001b[38;5;28;43mtuple\u001b[39;49m\u001b[43m(\u001b[49m\u001b[43mdata\u001b[49m\u001b[43m[\u001b[49m\u001b[43mi\u001b[49m\u001b[43m]\u001b[49m\u001b[43m)\u001b[49m\u001b[43m)\u001b[49m\n",
      "File \u001b[1;32m~\\project_env\\lib\\site-packages\\matplotlib\\axes\\_axes.py:711\u001b[0m, in \u001b[0;36mAxes.annotate\u001b[1;34m(self, text, xy, xytext, xycoords, textcoords, arrowprops, annotation_clip, **kwargs)\u001b[0m\n\u001b[0;32m    706\u001b[0m \u001b[38;5;129m@_docstring\u001b[39m\u001b[38;5;241m.\u001b[39mdedent_interpd\n\u001b[0;32m    707\u001b[0m \u001b[38;5;28;01mdef\u001b[39;00m \u001b[38;5;21mannotate\u001b[39m(\u001b[38;5;28mself\u001b[39m, text, xy, xytext\u001b[38;5;241m=\u001b[39m\u001b[38;5;28;01mNone\u001b[39;00m, xycoords\u001b[38;5;241m=\u001b[39m\u001b[38;5;124m'\u001b[39m\u001b[38;5;124mdata\u001b[39m\u001b[38;5;124m'\u001b[39m, textcoords\u001b[38;5;241m=\u001b[39m\u001b[38;5;28;01mNone\u001b[39;00m,\n\u001b[0;32m    708\u001b[0m              arrowprops\u001b[38;5;241m=\u001b[39m\u001b[38;5;28;01mNone\u001b[39;00m, annotation_clip\u001b[38;5;241m=\u001b[39m\u001b[38;5;28;01mNone\u001b[39;00m, \u001b[38;5;241m*\u001b[39m\u001b[38;5;241m*\u001b[39mkwargs):\n\u001b[0;32m    709\u001b[0m     \u001b[38;5;66;03m# Signature must match Annotation. This is verified in\u001b[39;00m\n\u001b[0;32m    710\u001b[0m     \u001b[38;5;66;03m# test_annotate_signature().\u001b[39;00m\n\u001b[1;32m--> 711\u001b[0m     a \u001b[38;5;241m=\u001b[39m mtext\u001b[38;5;241m.\u001b[39mAnnotation(text, xy, xytext\u001b[38;5;241m=\u001b[39mxytext, xycoords\u001b[38;5;241m=\u001b[39mxycoords,\n\u001b[0;32m    712\u001b[0m                          textcoords\u001b[38;5;241m=\u001b[39mtextcoords, arrowprops\u001b[38;5;241m=\u001b[39marrowprops,\n\u001b[0;32m    713\u001b[0m                          annotation_clip\u001b[38;5;241m=\u001b[39mannotation_clip, \u001b[38;5;241m*\u001b[39m\u001b[38;5;241m*\u001b[39mkwargs)\n\u001b[0;32m    714\u001b[0m     a\u001b[38;5;241m.\u001b[39mset_transform(mtransforms\u001b[38;5;241m.\u001b[39mIdentityTransform())\n\u001b[0;32m    715\u001b[0m     \u001b[38;5;28;01mif\u001b[39;00m kwargs\u001b[38;5;241m.\u001b[39mget(\u001b[38;5;124m'\u001b[39m\u001b[38;5;124mclip_on\u001b[39m\u001b[38;5;124m'\u001b[39m, \u001b[38;5;28;01mFalse\u001b[39;00m) \u001b[38;5;129;01mand\u001b[39;00m a\u001b[38;5;241m.\u001b[39mget_clip_path() \u001b[38;5;129;01mis\u001b[39;00m \u001b[38;5;28;01mNone\u001b[39;00m:\n",
      "File \u001b[1;32m~\\project_env\\lib\\site-packages\\matplotlib\\text.py:1805\u001b[0m, in \u001b[0;36mAnnotation.__init__\u001b[1;34m(self, text, xy, xytext, xycoords, textcoords, arrowprops, annotation_clip, **kwargs)\u001b[0m\n\u001b[0;32m   1633\u001b[0m \u001b[38;5;28;01mdef\u001b[39;00m \u001b[38;5;21m__init__\u001b[39m(\u001b[38;5;28mself\u001b[39m, text, xy,\n\u001b[0;32m   1634\u001b[0m              xytext\u001b[38;5;241m=\u001b[39m\u001b[38;5;28;01mNone\u001b[39;00m,\n\u001b[0;32m   1635\u001b[0m              xycoords\u001b[38;5;241m=\u001b[39m\u001b[38;5;124m'\u001b[39m\u001b[38;5;124mdata\u001b[39m\u001b[38;5;124m'\u001b[39m,\n\u001b[1;32m   (...)\u001b[0m\n\u001b[0;32m   1638\u001b[0m              annotation_clip\u001b[38;5;241m=\u001b[39m\u001b[38;5;28;01mNone\u001b[39;00m,\n\u001b[0;32m   1639\u001b[0m              \u001b[38;5;241m*\u001b[39m\u001b[38;5;241m*\u001b[39mkwargs):\n\u001b[0;32m   1640\u001b[0m \u001b[38;5;250m    \u001b[39m\u001b[38;5;124;03m\"\"\"\u001b[39;00m\n\u001b[0;32m   1641\u001b[0m \u001b[38;5;124;03m    Annotate the point *xy* with text *text*.\u001b[39;00m\n\u001b[0;32m   1642\u001b[0m \n\u001b[1;32m   (...)\u001b[0m\n\u001b[0;32m   1803\u001b[0m \n\u001b[0;32m   1804\u001b[0m \u001b[38;5;124;03m    \"\"\"\u001b[39;00m\n\u001b[1;32m-> 1805\u001b[0m     \u001b[43m_AnnotationBase\u001b[49m\u001b[38;5;241;43m.\u001b[39;49m\u001b[38;5;21;43m__init__\u001b[39;49m\u001b[43m(\u001b[49m\u001b[38;5;28;43mself\u001b[39;49m\u001b[43m,\u001b[49m\n\u001b[0;32m   1806\u001b[0m \u001b[43m                             \u001b[49m\u001b[43mxy\u001b[49m\u001b[43m,\u001b[49m\n\u001b[0;32m   1807\u001b[0m \u001b[43m                             \u001b[49m\u001b[43mxycoords\u001b[49m\u001b[38;5;241;43m=\u001b[39;49m\u001b[43mxycoords\u001b[49m\u001b[43m,\u001b[49m\n\u001b[0;32m   1808\u001b[0m \u001b[43m                             \u001b[49m\u001b[43mannotation_clip\u001b[49m\u001b[38;5;241;43m=\u001b[39;49m\u001b[43mannotation_clip\u001b[49m\u001b[43m)\u001b[49m\n\u001b[0;32m   1809\u001b[0m     \u001b[38;5;66;03m# warn about wonky input data\u001b[39;00m\n\u001b[0;32m   1810\u001b[0m     \u001b[38;5;28;01mif\u001b[39;00m (xytext \u001b[38;5;129;01mis\u001b[39;00m \u001b[38;5;28;01mNone\u001b[39;00m \u001b[38;5;129;01mand\u001b[39;00m\n\u001b[0;32m   1811\u001b[0m             textcoords \u001b[38;5;129;01mis\u001b[39;00m \u001b[38;5;129;01mnot\u001b[39;00m \u001b[38;5;28;01mNone\u001b[39;00m \u001b[38;5;129;01mand\u001b[39;00m\n\u001b[0;32m   1812\u001b[0m             textcoords \u001b[38;5;241m!=\u001b[39m xycoords):\n",
      "File \u001b[1;32m~\\project_env\\lib\\site-packages\\matplotlib\\text.py:1450\u001b[0m, in \u001b[0;36m_AnnotationBase.__init__\u001b[1;34m(self, xy, xycoords, annotation_clip)\u001b[0m\n\u001b[0;32m   1445\u001b[0m \u001b[38;5;28;01mdef\u001b[39;00m \u001b[38;5;21m__init__\u001b[39m(\u001b[38;5;28mself\u001b[39m,\n\u001b[0;32m   1446\u001b[0m              xy,\n\u001b[0;32m   1447\u001b[0m              xycoords\u001b[38;5;241m=\u001b[39m\u001b[38;5;124m'\u001b[39m\u001b[38;5;124mdata\u001b[39m\u001b[38;5;124m'\u001b[39m,\n\u001b[0;32m   1448\u001b[0m              annotation_clip\u001b[38;5;241m=\u001b[39m\u001b[38;5;28;01mNone\u001b[39;00m):\n\u001b[1;32m-> 1450\u001b[0m     x, y \u001b[38;5;241m=\u001b[39m xy  \u001b[38;5;66;03m# Make copy when xy is an array (and check the shape).\u001b[39;00m\n\u001b[0;32m   1451\u001b[0m     \u001b[38;5;28mself\u001b[39m\u001b[38;5;241m.\u001b[39mxy \u001b[38;5;241m=\u001b[39m x, y\n\u001b[0;32m   1452\u001b[0m     \u001b[38;5;28mself\u001b[39m\u001b[38;5;241m.\u001b[39mxycoords \u001b[38;5;241m=\u001b[39m xycoords\n",
      "\u001b[1;31mValueError\u001b[0m: too many values to unpack (expected 2)"
     ]
    },
    {
     "data": {
      "image/png": "[encoded data removed]",
      "text/plain": [
       "<Figure size 1500x600 with 1 Axes>"
      ]
     },
     "metadata": {},
     "output_type": "display_data"
    }
   ],
   "source": [
    "import matplotlib.pyplot as plt\n",
    "import seaborn as sns\n",
    "import pandas as pd\n",
    "\n",
    "plt.figure(figsize=(15,6))\n",
    "embedding_graph = sns.scatterplot(data=context_vector_df, x=context_vector_df[0], y=context_vector_df[1])\n",
    "\n",
    "for i, word in enumerate(vocab_data):\n",
    "    data = context_vectors.cpu().detach().numpy()\n",
    "    embedding_graph.annotate(word, tuple(data[i]))"
   ]
  },
  {
   "cell_type": "code",
   "execution_count": 42,
   "id": "2d04f02e-4042-4e86-b390-3af4c6d17cce",
   "metadata": {},
   "outputs": [
    {
     "data": {
      "text/plain": [
       "OrderedDict([('weight',\n",
       "              tensor([[ 0.8212,  0.0199, -2.0618],\n",
       "                      [-0.7725,  0.0558,  0.6837],\n",
       "                      [ 1.2496,  1.5464, -0.6298],\n",
       "                      [ 2.1904,  0.3164, -0.1985],\n",
       "                      [-0.1003,  1.1369, -0.8063],\n",
       "                      [-0.3516, -1.0496,  0.2188],\n",
       "                      [-0.2127, -0.6794, -1.7814],\n",
       "                      [ 2.2613,  0.2305, -0.5974],\n",
       "                      [ 1.3887, -1.1365, -1.0111],\n",
       "                      [ 0.5299,  0.1714,  0.1929],\n",
       "                      [-0.3169,  0.8191,  1.4429],\n",
       "                      [ 0.9071,  2.0797, -0.2416],\n",
       "                      [-0.7480, -0.3190, -1.6438],\n",
       "                      [ 0.0028, -0.6094, -0.1208],\n",
       "                      [ 0.9010, -0.3563, -0.3057],\n",
       "                      [-1.0496, -0.7184,  0.6261]]))])"
      ]
     },
     "execution_count": 42,
     "metadata": {},
     "output_type": "execute_result"
    }
   ],
   "source": [
    "embedding = nn.Embedding(16, 3)\n",
    "embedding.state_dict()"
   ]
  },
  {
   "cell_type": "code",
   "execution_count": 51,
   "id": "535bf471-1976-46f2-8ad6-08737a8b920e",
   "metadata": {},
   "outputs": [],
   "source": [
    "# example_data = torch.arange(16)\n",
    "\n",
    "class Embedding(nn.Module):\n",
    "    def __init__(self, vocab_size, embed_size):\n",
    "        super().__init__()\n",
    "        self.l_0 = nn.Embedding(vocab_size, embed_size)\n",
    "        \n",
    "    def forward(self, x):\n",
    "        return self.l_0(x)"
   ]
  },
  {
   "cell_type": "code",
   "execution_count": 57,
   "id": "50ab04be-e6ee-4f9a-9323-69cd3d537e38",
   "metadata": {},
   "outputs": [
    {
     "data": {
      "application/vnd.jupyter.widget-view+json": {
       "model_id": "a4cde8081d8641bd8b0a4a1186f903eb",
       "version_major": 2,
       "version_minor": 0
      },
      "text/plain": [
       "  0%|          | 0/1000 [00:00<?, ?it/s]"
      ]
     },
     "metadata": {},
     "output_type": "display_data"
    },
    {
     "ename": "RuntimeError",
     "evalue": "\"nll_loss_forward_reduce_cuda_kernel_2d_index\" not implemented for 'Float'",
     "output_type": "error",
     "traceback": [
      "\u001b[1;31m---------------------------------------------------------------------------\u001b[0m",
      "\u001b[1;31mRuntimeError\u001b[0m                              Traceback (most recent call last)",
      "Cell \u001b[1;32mIn[57], line 4\u001b[0m\n\u001b[0;32m      2\u001b[0m pytorch_embedding\u001b[38;5;241m.\u001b[39mto(device)\n\u001b[0;32m      3\u001b[0m optimizer \u001b[38;5;241m=\u001b[39m torch\u001b[38;5;241m.\u001b[39moptim\u001b[38;5;241m.\u001b[39mAdam(params\u001b[38;5;241m=\u001b[39mpytorch_embedding\u001b[38;5;241m.\u001b[39mparameters(), lr\u001b[38;5;241m=\u001b[39mLR)\n\u001b[1;32m----> 4\u001b[0m \u001b[43mtrain_model\u001b[49m\u001b[43m(\u001b[49m\u001b[43mpytorch_embedding\u001b[49m\u001b[43m,\u001b[49m\u001b[43m \u001b[49m\u001b[43mX\u001b[49m\u001b[43m,\u001b[49m\u001b[43m \u001b[49m\u001b[43my\u001b[49m\u001b[43m,\u001b[49m\u001b[43m \u001b[49m\u001b[43mcriterion\u001b[49m\u001b[43m,\u001b[49m\u001b[43m \u001b[49m\u001b[43moptimizer\u001b[49m\u001b[43m,\u001b[49m\u001b[43m \u001b[49m\u001b[38;5;241;43m1000\u001b[39;49m\u001b[43m)\u001b[49m\n",
      "Cell \u001b[1;32mIn[56], line 8\u001b[0m, in \u001b[0;36mtrain_model\u001b[1;34m(model, X, y, criterion, optimizer, epoches)\u001b[0m\n\u001b[0;32m      6\u001b[0m \u001b[38;5;28;01mfor\u001b[39;00m j, _ \u001b[38;5;129;01min\u001b[39;00m \u001b[38;5;28menumerate\u001b[39m(X):\n\u001b[0;32m      7\u001b[0m     y_pred \u001b[38;5;241m=\u001b[39m model(torch\u001b[38;5;241m.\u001b[39mIntTensor(X[j])\u001b[38;5;241m.\u001b[39mto(device))\n\u001b[1;32m----> 8\u001b[0m     loss \u001b[38;5;241m=\u001b[39m \u001b[43mcriterion\u001b[49m\u001b[43m(\u001b[49m\u001b[43my_pred\u001b[49m\u001b[43m,\u001b[49m\u001b[43m \u001b[49m\u001b[43mtorch\u001b[49m\u001b[38;5;241;43m.\u001b[39;49m\u001b[43mTensor\u001b[49m\u001b[43m(\u001b[49m\u001b[43my\u001b[49m\u001b[43m[\u001b[49m\u001b[43mj\u001b[49m\u001b[43m]\u001b[49m\u001b[43m)\u001b[49m\u001b[38;5;241;43m.\u001b[39;49m\u001b[43mto\u001b[49m\u001b[43m(\u001b[49m\u001b[43mdevice\u001b[49m\u001b[43m)\u001b[49m\u001b[43m)\u001b[49m\n\u001b[0;32m      9\u001b[0m     train_loss \u001b[38;5;241m+\u001b[39m\u001b[38;5;241m=\u001b[39m loss\n\u001b[0;32m     11\u001b[0m     optimizer\u001b[38;5;241m.\u001b[39mzero_grad()\n",
      "File \u001b[1;32m~\\project_env\\lib\\site-packages\\torch\\nn\\modules\\module.py:1511\u001b[0m, in \u001b[0;36mModule._wrapped_call_impl\u001b[1;34m(self, *args, **kwargs)\u001b[0m\n\u001b[0;32m   1509\u001b[0m     \u001b[38;5;28;01mreturn\u001b[39;00m \u001b[38;5;28mself\u001b[39m\u001b[38;5;241m.\u001b[39m_compiled_call_impl(\u001b[38;5;241m*\u001b[39margs, \u001b[38;5;241m*\u001b[39m\u001b[38;5;241m*\u001b[39mkwargs)  \u001b[38;5;66;03m# type: ignore[misc]\u001b[39;00m\n\u001b[0;32m   1510\u001b[0m \u001b[38;5;28;01melse\u001b[39;00m:\n\u001b[1;32m-> 1511\u001b[0m     \u001b[38;5;28;01mreturn\u001b[39;00m \u001b[38;5;28mself\u001b[39m\u001b[38;5;241m.\u001b[39m_call_impl(\u001b[38;5;241m*\u001b[39margs, \u001b[38;5;241m*\u001b[39m\u001b[38;5;241m*\u001b[39mkwargs)\n",
      "File \u001b[1;32m~\\project_env\\lib\\site-packages\\torch\\nn\\modules\\module.py:1520\u001b[0m, in \u001b[0;36mModule._call_impl\u001b[1;34m(self, *args, **kwargs)\u001b[0m\n\u001b[0;32m   1515\u001b[0m \u001b[38;5;66;03m# If we don't have any hooks, we want to skip the rest of the logic in\u001b[39;00m\n\u001b[0;32m   1516\u001b[0m \u001b[38;5;66;03m# this function, and just call forward.\u001b[39;00m\n\u001b[0;32m   1517\u001b[0m \u001b[38;5;28;01mif\u001b[39;00m \u001b[38;5;129;01mnot\u001b[39;00m (\u001b[38;5;28mself\u001b[39m\u001b[38;5;241m.\u001b[39m_backward_hooks \u001b[38;5;129;01mor\u001b[39;00m \u001b[38;5;28mself\u001b[39m\u001b[38;5;241m.\u001b[39m_backward_pre_hooks \u001b[38;5;129;01mor\u001b[39;00m \u001b[38;5;28mself\u001b[39m\u001b[38;5;241m.\u001b[39m_forward_hooks \u001b[38;5;129;01mor\u001b[39;00m \u001b[38;5;28mself\u001b[39m\u001b[38;5;241m.\u001b[39m_forward_pre_hooks\n\u001b[0;32m   1518\u001b[0m         \u001b[38;5;129;01mor\u001b[39;00m _global_backward_pre_hooks \u001b[38;5;129;01mor\u001b[39;00m _global_backward_hooks\n\u001b[0;32m   1519\u001b[0m         \u001b[38;5;129;01mor\u001b[39;00m _global_forward_hooks \u001b[38;5;129;01mor\u001b[39;00m _global_forward_pre_hooks):\n\u001b[1;32m-> 1520\u001b[0m     \u001b[38;5;28;01mreturn\u001b[39;00m forward_call(\u001b[38;5;241m*\u001b[39margs, \u001b[38;5;241m*\u001b[39m\u001b[38;5;241m*\u001b[39mkwargs)\n\u001b[0;32m   1522\u001b[0m \u001b[38;5;28;01mtry\u001b[39;00m:\n\u001b[0;32m   1523\u001b[0m     result \u001b[38;5;241m=\u001b[39m \u001b[38;5;28;01mNone\u001b[39;00m\n",
      "File \u001b[1;32m~\\project_env\\lib\\site-packages\\torch\\nn\\modules\\loss.py:1179\u001b[0m, in \u001b[0;36mCrossEntropyLoss.forward\u001b[1;34m(self, input, target)\u001b[0m\n\u001b[0;32m   1178\u001b[0m \u001b[38;5;28;01mdef\u001b[39;00m \u001b[38;5;21mforward\u001b[39m(\u001b[38;5;28mself\u001b[39m, \u001b[38;5;28minput\u001b[39m: Tensor, target: Tensor) \u001b[38;5;241m-\u001b[39m\u001b[38;5;241m>\u001b[39m Tensor:\n\u001b[1;32m-> 1179\u001b[0m     \u001b[38;5;28;01mreturn\u001b[39;00m \u001b[43mF\u001b[49m\u001b[38;5;241;43m.\u001b[39;49m\u001b[43mcross_entropy\u001b[49m\u001b[43m(\u001b[49m\u001b[38;5;28;43minput\u001b[39;49m\u001b[43m,\u001b[49m\u001b[43m \u001b[49m\u001b[43mtarget\u001b[49m\u001b[43m,\u001b[49m\u001b[43m \u001b[49m\u001b[43mweight\u001b[49m\u001b[38;5;241;43m=\u001b[39;49m\u001b[38;5;28;43mself\u001b[39;49m\u001b[38;5;241;43m.\u001b[39;49m\u001b[43mweight\u001b[49m\u001b[43m,\u001b[49m\n\u001b[0;32m   1180\u001b[0m \u001b[43m                           \u001b[49m\u001b[43mignore_index\u001b[49m\u001b[38;5;241;43m=\u001b[39;49m\u001b[38;5;28;43mself\u001b[39;49m\u001b[38;5;241;43m.\u001b[39;49m\u001b[43mignore_index\u001b[49m\u001b[43m,\u001b[49m\u001b[43m \u001b[49m\u001b[43mreduction\u001b[49m\u001b[38;5;241;43m=\u001b[39;49m\u001b[38;5;28;43mself\u001b[39;49m\u001b[38;5;241;43m.\u001b[39;49m\u001b[43mreduction\u001b[49m\u001b[43m,\u001b[49m\n\u001b[0;32m   1181\u001b[0m \u001b[43m                           \u001b[49m\u001b[43mlabel_smoothing\u001b[49m\u001b[38;5;241;43m=\u001b[39;49m\u001b[38;5;28;43mself\u001b[39;49m\u001b[38;5;241;43m.\u001b[39;49m\u001b[43mlabel_smoothing\u001b[49m\u001b[43m)\u001b[49m\n",
      "File \u001b[1;32m~\\project_env\\lib\\site-packages\\torch\\nn\\functional.py:3059\u001b[0m, in \u001b[0;36mcross_entropy\u001b[1;34m(input, target, weight, size_average, ignore_index, reduce, reduction, label_smoothing)\u001b[0m\n\u001b[0;32m   3057\u001b[0m \u001b[38;5;28;01mif\u001b[39;00m size_average \u001b[38;5;129;01mis\u001b[39;00m \u001b[38;5;129;01mnot\u001b[39;00m \u001b[38;5;28;01mNone\u001b[39;00m \u001b[38;5;129;01mor\u001b[39;00m reduce \u001b[38;5;129;01mis\u001b[39;00m \u001b[38;5;129;01mnot\u001b[39;00m \u001b[38;5;28;01mNone\u001b[39;00m:\n\u001b[0;32m   3058\u001b[0m     reduction \u001b[38;5;241m=\u001b[39m _Reduction\u001b[38;5;241m.\u001b[39mlegacy_get_string(size_average, reduce)\n\u001b[1;32m-> 3059\u001b[0m \u001b[38;5;28;01mreturn\u001b[39;00m \u001b[43mtorch\u001b[49m\u001b[38;5;241;43m.\u001b[39;49m\u001b[43m_C\u001b[49m\u001b[38;5;241;43m.\u001b[39;49m\u001b[43m_nn\u001b[49m\u001b[38;5;241;43m.\u001b[39;49m\u001b[43mcross_entropy_loss\u001b[49m\u001b[43m(\u001b[49m\u001b[38;5;28;43minput\u001b[39;49m\u001b[43m,\u001b[49m\u001b[43m \u001b[49m\u001b[43mtarget\u001b[49m\u001b[43m,\u001b[49m\u001b[43m \u001b[49m\u001b[43mweight\u001b[49m\u001b[43m,\u001b[49m\u001b[43m \u001b[49m\u001b[43m_Reduction\u001b[49m\u001b[38;5;241;43m.\u001b[39;49m\u001b[43mget_enum\u001b[49m\u001b[43m(\u001b[49m\u001b[43mreduction\u001b[49m\u001b[43m)\u001b[49m\u001b[43m,\u001b[49m\u001b[43m \u001b[49m\u001b[43mignore_index\u001b[49m\u001b[43m,\u001b[49m\u001b[43m \u001b[49m\u001b[43mlabel_smoothing\u001b[49m\u001b[43m)\u001b[49m\n",
      "\u001b[1;31mRuntimeError\u001b[0m: \"nll_loss_forward_reduce_cuda_kernel_2d_index\" not implemented for 'Float'"
     ]
    }
   ],
   "source": [
    "pytorch_embedding = Embedding(16, 3)\n",
    "pytorch_embedding.to(device)\n",
    "optimizer = torch.optim.Adam(params=pytorch_embedding.parameters(), lr=LR)\n",
    "train_model(pytorch_embedding, X, y, criterion, optimizer, 1000)"
   ]
  }
 ],
 "metadata": {
  "kernelspec": {
   "display_name": "Python 3 (ipykernel)",
   "language": "python",
   "name": "python3"
  },
  "language_info": {
   "codemirror_mode": {
    "name": "ipython",
    "version": 3
   },
   "file_extension": ".py",
   "mimetype": "text/x-python",
   "name": "python",
   "nbconvert_exporter": "python",
   "pygments_lexer": "ipython3",
   "version": "3.10.11"
  }
 },
 "nbformat": 4,
 "nbformat_minor": 5
}
