{
 "cells": [
  {
   "cell_type": "code",
   "execution_count": 3,
   "id": "900d6e19-a75a-406c-a909-901f5ea63567",
   "metadata": {},
   "outputs": [
    {
     "name": "stdout",
     "output_type": "stream",
     "text": [
      "WARNING:tensorflow:From C:\\Users\\Brand\\project_env\\lib\\site-packages\\keras\\src\\losses.py:2976: The name tf.losses.sparse_softmax_cross_entropy is deprecated. Please use tf.compat.v1.losses.sparse_softmax_cross_entropy instead.\n",
      "\n"
     ]
    }
   ],
   "source": [
    "from transformers import pipeline"
   ]
  },
  {
   "cell_type": "markdown",
   "id": "068dc1d5-077c-4d10-b273-36d7b9099417",
   "metadata": {},
   "source": [
    "#### Text Summarization\n",
    "***\n",
    "\n",
    "1. **What is Text Summarization**\n",
    "   - The process of breaking down long text into shorter, more digestible paragraphs and sentences. This method extracts important information while perserving the overall text meaning\n",
    "\n",
    "2. **How does Text Summarization Work**\n",
    "    - Extratcice and Abstractive Text Summarization Methods\n",
    "   1. Extractive Text Summarization\n",
    "      - Extracts the most pertinent, or important, information from the text\n",
    "      - More traditional than the two method because of relative simplicity\n",
    "     \n",
    "   2. Abstractice Text Summarization\n",
    "      - Genertaes a novel body of text that accuractly summarizes the original text\n",
    "      - More degree of freedom, resulting in it being more complex and harder to implement\n",
    "     \n",
    "3. **Metrics used for Text Summarizaiton**\n",
    "   1. BLEU\n",
    "   2. ROUGE"
   ]
  },
  {
   "cell_type": "code",
   "execution_count": null,
   "id": "73c7fcf8-18ca-45e1-99f9-eee7ee6b9096",
   "metadata": {},
   "outputs": [],
   "source": []
  },
  {
   "cell_type": "code",
   "execution_count": 9,
   "id": "3bf7ec8c-6084-42f6-94c9-cd7bcc01abae",
   "metadata": {},
   "outputs": [
    {
     "name": "stderr",
     "output_type": "stream",
     "text": [
      "No model was supplied, defaulted to sshleifer/distilbart-cnn-12-6 and revision a4f8f3e (https://huggingface.co/sshleifer/distilbart-cnn-12-6).\n",
      "Using a pipeline without specifying a model name and revision in production is not recommended.\n",
      "Your max_length is set to 142, but your input_length is only 38. Since this is a summarization task, where outputs shorter than the input are typically wanted, you might consider decreasing max_length manually, e.g. summarizer('...', max_length=19)\n"
     ]
    },
    {
     "data": {
      "text/plain": [
       "\" Gradient Boost is a boosting method that is very similar to how gradient descent works in a linear regression model . It can be used for classification trees and regression trees . The method is similar to gradient descent in linear regression models . It has been used in many of the world's most successful algorithms .\""
      ]
     },
     "execution_count": 9,
     "metadata": {},
     "output_type": "execute_result"
    }
   ],
   "source": [
    "classifier = pipeline(\"summarization\")\n",
    "text = \"\"\"\n",
    "Gradient Boost is a boosting method that is very similar to how gradient descent works in a linear regression model\n",
    "- It can be used for classification trees and regression trees\n",
    "\"\"\"\n",
    "\n",
    "classifier(text)[0]['summary_text']"
   ]
  }
 ],
 "metadata": {
  "kernelspec": {
   "display_name": "Python 3 (ipykernel)",
   "language": "python",
   "name": "python3"
  },
  "language_info": {
   "codemirror_mode": {
    "name": "ipython",
    "version": 3
   },
   "file_extension": ".py",
   "mimetype": "text/x-python",
   "name": "python",
   "nbconvert_exporter": "python",
   "pygments_lexer": "ipython3",
   "version": "3.10.11"
  }
 },
 "nbformat": 4,
 "nbformat_minor": 5
}
