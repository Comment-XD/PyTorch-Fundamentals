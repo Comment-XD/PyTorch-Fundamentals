{
 "cells": [
  {
   "cell_type": "code",
   "execution_count": 26,
   "id": "0a12c05a-8494-456e-bd45-66f71bfb5735",
   "metadata": {},
   "outputs": [],
   "source": [
    "import numpy as np\n",
    "import pandas as pd\n",
    "\n",
    "from nltk.tokenize import word_tokenize\n",
    "from sklearn.feature_extraction.text import CountVectorizer\n",
    "\n",
    "from tokenization import Word_Preprocess"
   ]
  },
  {
   "cell_type": "code",
   "execution_count": null,
   "id": "7500ce6d-ae70-4a2c-b786-20a94211747d",
   "metadata": {},
   "outputs": [],
   "source": [
    "class N_GRAM_LM:\n",
    "    def __init__(self, n, data):\n",
    "        self.n = n\n",
    "        self.corpus = \n",
    "        self."
   ]
  },
  {
   "cell_type": "code",
   "execution_count": 23,
   "id": "10e7ab1c-2cfb-4902-a84c-8f0c70101a16",
   "metadata": {},
   "outputs": [],
   "source": [
    "corpus = [\"\"\"\n",
    "Traffic lights consist normally of three signals, transmitting meaningful information to road users through colours and symbols including arrows and bicycles. \n",
    "The regular traffic light colours are red, yellow (also known as amber), and green arranged vertically or horizontally in that order. \n",
    "Although this is internationally standardised, variations exist on national and local scales as to traffic light sequences and laws.\n",
    "\"\"\"]"
   ]
  },
  {
   "cell_type": "code",
   "execution_count": 24,
   "id": "d37c830c-ca6c-4d20-b537-f13f3c63a1d9",
   "metadata": {},
   "outputs": [],
   "source": [
    "def n_grams(data, n:int=3):\n",
    "    n_grams_list = []\n",
    "\n",
    "    for i in range(len(data)):\n",
    "        for j in range(len(data[i]) - n + 1):\n",
    "            n_grams_list.append(data[i][j: j + n])\n",
    "    \n",
    "    return n_grams_list\n",
    "\n",
    "def vocab(data):\n",
    "    vocab = set()\n",
    "    for sentence in data:\n",
    "        vocab.update(set(word_tokenize(sentence)))\n",
    "\n",
    "    return {list(vocab)[i]: i for i in range(len(vocab))}"
   ]
  },
  {
   "cell_type": "code",
   "execution_count": 42,
   "id": "de563127-1955-4153-b419-077c2756fe42",
   "metadata": {},
   "outputs": [
    {
     "data": {
      "text/plain": [
       "[['Traffic', 'lights'],\n",
       " ['lights', 'consist'],\n",
       " ['consist', 'normally'],\n",
       " ['normally', 'of'],\n",
       " ['of', 'three'],\n",
       " ['three', 'signals'],\n",
       " ['signals', ','],\n",
       " [',', 'transmitting'],\n",
       " ['transmitting', 'meaningful'],\n",
       " ['meaningful', 'information'],\n",
       " ['information', 'to'],\n",
       " ['to', 'road'],\n",
       " ['road', 'users'],\n",
       " ['users', 'through'],\n",
       " ['through', 'colours'],\n",
       " ['colours', 'and'],\n",
       " ['and', 'symbols'],\n",
       " ['symbols', 'including'],\n",
       " ['including', 'arrows'],\n",
       " ['arrows', 'and'],\n",
       " ['and', 'bicycles'],\n",
       " ['bicycles', '.'],\n",
       " ['.', 'The'],\n",
       " ['The', 'regular'],\n",
       " ['regular', 'traffic'],\n",
       " ['traffic', 'light'],\n",
       " ['light', 'colours'],\n",
       " ['colours', 'are'],\n",
       " ['are', 'red'],\n",
       " ['red', ','],\n",
       " [',', 'yellow'],\n",
       " ['yellow', '('],\n",
       " ['(', 'also'],\n",
       " ['also', 'known'],\n",
       " ['known', 'as'],\n",
       " ['as', 'amber'],\n",
       " ['amber', ')'],\n",
       " [')', ','],\n",
       " [',', 'and'],\n",
       " ['and', 'green'],\n",
       " ['green', 'arranged'],\n",
       " ['arranged', 'vertically'],\n",
       " ['vertically', 'or'],\n",
       " ['or', 'horizontally'],\n",
       " ['horizontally', 'in'],\n",
       " ['in', 'that'],\n",
       " ['that', 'order'],\n",
       " ['order', '.'],\n",
       " ['.', 'Although'],\n",
       " ['Although', 'this'],\n",
       " ['this', 'is'],\n",
       " ['is', 'internationally'],\n",
       " ['internationally', 'standardised'],\n",
       " ['standardised', ','],\n",
       " [',', 'variations'],\n",
       " ['variations', 'exist'],\n",
       " ['exist', 'on'],\n",
       " ['on', 'national'],\n",
       " ['national', 'and'],\n",
       " ['and', 'local'],\n",
       " ['local', 'scales'],\n",
       " ['scales', 'as'],\n",
       " ['as', 'to'],\n",
       " ['to', 'traffic'],\n",
       " ['traffic', 'light'],\n",
       " ['light', 'sequences'],\n",
       " ['sequences', 'and'],\n",
       " ['and', 'laws'],\n",
       " ['laws', '.']]"
      ]
     },
     "execution_count": 42,
     "metadata": {},
     "output_type": "execute_result"
    }
   ],
   "source": [
    "n_grams([word_tokenize(corpus[0])], 2)"
   ]
  },
  {
   "cell_type": "code",
   "execution_count": 37,
   "id": "e7f8cd61-bfec-4e4a-b0f4-47e8696f1fdd",
   "metadata": {},
   "outputs": [
    {
     "data": {
      "text/plain": [
       "(56, 56)"
      ]
     },
     "execution_count": 37,
     "metadata": {},
     "output_type": "execute_result"
    }
   ],
   "source": [
    "# Create a count matrix should be vocab size x vocab size\n",
    "preprocessing = Word_Preprocess()\n",
    "preprocessing.text_preprocess(corpus[0])\n",
    "\n",
    "\n",
    "vocab_list = list(vocab(corpus))\n",
    "vocab_size = len(vocab_list)\n",
    "count_matrix = np.zeros((vocab_size, vocab_size))\n",
    "\n",
    "for i in range(vocab_size):\n",
    "    temp_dict = {word: 0 for word in vocab_list}\n",
    "    for j in range(vocab_size):\n",
    "        \n",
    "        "
   ]
  }
 ],
 "metadata": {
  "kernelspec": {
   "display_name": "Python 3 (ipykernel)",
   "language": "python",
   "name": "python3"
  },
  "language_info": {
   "codemirror_mode": {
    "name": "ipython",
    "version": 3
   },
   "file_extension": ".py",
   "mimetype": "text/x-python",
   "name": "python",
   "nbconvert_exporter": "python",
   "pygments_lexer": "ipython3",
   "version": "3.10.11"
  }
 },
 "nbformat": 4,
 "nbformat_minor": 5
}
