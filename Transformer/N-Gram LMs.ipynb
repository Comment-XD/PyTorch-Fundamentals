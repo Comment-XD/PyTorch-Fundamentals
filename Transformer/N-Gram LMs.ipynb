{
 "cells": [
  {
   "cell_type": "code",
   "execution_count": 1,
   "id": "0a12c05a-8494-456e-bd45-66f71bfb5735",
   "metadata": {},
   "outputs": [
    {
     "name": "stderr",
     "output_type": "stream",
     "text": [
      "C:\\Users\\Brand\\AppData\\Local\\Temp\\ipykernel_18440\\2497552713.py:2: DeprecationWarning: \n",
      "Pyarrow will become a required dependency of pandas in the next major release of pandas (pandas 3.0),\n",
      "(to allow more performant data types, such as the Arrow string type, and better interoperability with other libraries)\n",
      "but was not found to be installed on your system.\n",
      "If this would cause problems for you,\n",
      "please provide us feedback at https://github.com/pandas-dev/pandas/issues/54466\n",
      "        \n",
      "  import pandas as pd\n"
     ]
    }
   ],
   "source": [
    "import numpy as np\n",
    "import pandas as pd\n",
    "\n",
    "from nltk.tokenize import word_tokenize\n",
    "from sklearn.feature_extraction.text import CountVectorizer\n",
    "\n",
    "from tokenization import Word_Preprocess"
   ]
  },
  {
   "cell_type": "code",
   "execution_count": 2,
   "id": "10e7ab1c-2cfb-4902-a84c-8f0c70101a16",
   "metadata": {},
   "outputs": [],
   "source": [
    "corpus = [\"\"\"\n",
    "Traffic lights consist normally of three signals, transmitting meaningful information to road users through colours and symbols including arrows and bicycles. \n",
    "The regular traffic light colours are red, yellow (also known as amber), and green arranged vertically or horizontally in that order. \n",
    "Although this is internationally standardised, variations exist on national and local scales as to traffic light sequences and laws.\n",
    "\"\"\"]"
   ]
  },
  {
   "cell_type": "code",
   "execution_count": 12,
   "id": "d37c830c-ca6c-4d20-b537-f13f3c63a1d9",
   "metadata": {},
   "outputs": [],
   "source": [
    "def n_grams(data, n:int=3):\n",
    "    n_grams_list = []\n",
    "\n",
    "    for i in range(len(data)):\n",
    "        for j in range(len(data[i]) - n + 1):\n",
    "            n_grams_list.append(data[i][j: j + n])\n",
    "    \n",
    "    return n_grams_list\n",
    "\n",
    "def vocab(data):\n",
    "    vocab = set()\n",
    "    for sentence in data:\n",
    "        vocab.update(set(word_tokenize(sentence)))\n",
    "\n",
    "    return {list(vocab)[i]: i+1 for i in range(len(vocab))}\n",
    "\n",
    "def indexer(data):\n",
    "    indexed_data = []\n",
    "    vocab_dict = vocab(data)\n",
    "    for sentence in data:\n",
    "        indexed_data.append([vocab_dict[word] for i, word in enumerate(word_tokenize(sentence))])\n",
    "\n",
    "    return indexed_data"
   ]
  },
  {
   "cell_type": "code",
   "execution_count": 13,
   "id": "12cc2f97-6f5a-4951-b7a6-ed3f342b16a2",
   "metadata": {},
   "outputs": [
    {
     "data": {
      "text/plain": [
       "[[33,\n",
       "  41,\n",
       "  38,\n",
       "  6,\n",
       "  3,\n",
       "  50,\n",
       "  15,\n",
       "  52,\n",
       "  29,\n",
       "  7,\n",
       "  13,\n",
       "  43,\n",
       "  47,\n",
       "  36,\n",
       "  8,\n",
       "  22,\n",
       "  27,\n",
       "  34,\n",
       "  17,\n",
       "  48,\n",
       "  27,\n",
       "  31,\n",
       "  39,\n",
       "  42,\n",
       "  14,\n",
       "  53,\n",
       "  51,\n",
       "  22,\n",
       "  40,\n",
       "  4,\n",
       "  52,\n",
       "  20,\n",
       "  1,\n",
       "  26,\n",
       "  9,\n",
       "  24,\n",
       "  18,\n",
       "  46,\n",
       "  52,\n",
       "  27,\n",
       "  23,\n",
       "  49,\n",
       "  2,\n",
       "  30,\n",
       "  56,\n",
       "  16,\n",
       "  28,\n",
       "  44,\n",
       "  39,\n",
       "  45,\n",
       "  25,\n",
       "  12,\n",
       "  11,\n",
       "  35,\n",
       "  52,\n",
       "  55,\n",
       "  21,\n",
       "  54,\n",
       "  10,\n",
       "  27,\n",
       "  32,\n",
       "  19,\n",
       "  24,\n",
       "  43,\n",
       "  53,\n",
       "  51,\n",
       "  37,\n",
       "  27,\n",
       "  5,\n",
       "  39]]"
      ]
     },
     "execution_count": 13,
     "metadata": {},
     "output_type": "execute_result"
    }
   ],
   "source": [
    "indexer(corpus)"
   ]
  },
  {
   "cell_type": "code",
   "execution_count": 14,
   "id": "d6c2511c-8e81-4c8b-beb1-c6bcecc0ae55",
   "metadata": {},
   "outputs": [
    {
     "data": {
      "text/plain": [
       "{'(': 1,\n",
       " 'vertically': 2,\n",
       " 'of': 3,\n",
       " 'red': 4,\n",
       " 'laws': 5,\n",
       " 'normally': 6,\n",
       " 'meaningful': 7,\n",
       " 'through': 8,\n",
       " 'known': 9,\n",
       " 'national': 10,\n",
       " 'internationally': 11,\n",
       " 'is': 12,\n",
       " 'information': 13,\n",
       " 'regular': 14,\n",
       " 'signals': 15,\n",
       " 'in': 16,\n",
       " 'including': 17,\n",
       " 'amber': 18,\n",
       " 'scales': 19,\n",
       " 'yellow': 20,\n",
       " 'exist': 21,\n",
       " 'colours': 22,\n",
       " 'green': 23,\n",
       " 'as': 24,\n",
       " 'this': 25,\n",
       " 'also': 26,\n",
       " 'and': 27,\n",
       " 'that': 28,\n",
       " 'transmitting': 29,\n",
       " 'or': 30,\n",
       " 'bicycles': 31,\n",
       " 'local': 32,\n",
       " 'Traffic': 33,\n",
       " 'symbols': 34,\n",
       " 'standardised': 35,\n",
       " 'users': 36,\n",
       " 'sequences': 37,\n",
       " 'consist': 38,\n",
       " '.': 39,\n",
       " 'are': 40,\n",
       " 'lights': 41,\n",
       " 'The': 42,\n",
       " 'to': 43,\n",
       " 'order': 44,\n",
       " 'Although': 45,\n",
       " ')': 46,\n",
       " 'road': 47,\n",
       " 'arrows': 48,\n",
       " 'arranged': 49,\n",
       " 'three': 50,\n",
       " 'light': 51,\n",
       " ',': 52,\n",
       " 'traffic': 53,\n",
       " 'on': 54,\n",
       " 'variations': 55,\n",
       " 'horizontally': 56}"
      ]
     },
     "execution_count": 14,
     "metadata": {},
     "output_type": "execute_result"
    }
   ],
   "source": [
    "vocab(corpus)"
   ]
  },
  {
   "cell_type": "code",
   "execution_count": 16,
   "id": "de563127-1955-4153-b419-077c2756fe42",
   "metadata": {},
   "outputs": [
    {
     "data": {
      "text/plain": [
       "[['Traffic', 'lights', 'consist'],\n",
       " ['lights', 'consist', 'normally'],\n",
       " ['consist', 'normally', 'of'],\n",
       " ['normally', 'of', 'three'],\n",
       " ['of', 'three', 'signals'],\n",
       " ['three', 'signals', ','],\n",
       " ['signals', ',', 'transmitting'],\n",
       " [',', 'transmitting', 'meaningful'],\n",
       " ['transmitting', 'meaningful', 'information'],\n",
       " ['meaningful', 'information', 'to'],\n",
       " ['information', 'to', 'road'],\n",
       " ['to', 'road', 'users'],\n",
       " ['road', 'users', 'through'],\n",
       " ['users', 'through', 'colours'],\n",
       " ['through', 'colours', 'and'],\n",
       " ['colours', 'and', 'symbols'],\n",
       " ['and', 'symbols', 'including'],\n",
       " ['symbols', 'including', 'arrows'],\n",
       " ['including', 'arrows', 'and'],\n",
       " ['arrows', 'and', 'bicycles'],\n",
       " ['and', 'bicycles', '.'],\n",
       " ['bicycles', '.', 'The'],\n",
       " ['.', 'The', 'regular'],\n",
       " ['The', 'regular', 'traffic'],\n",
       " ['regular', 'traffic', 'light'],\n",
       " ['traffic', 'light', 'colours'],\n",
       " ['light', 'colours', 'are'],\n",
       " ['colours', 'are', 'red'],\n",
       " ['are', 'red', ','],\n",
       " ['red', ',', 'yellow'],\n",
       " [',', 'yellow', '('],\n",
       " ['yellow', '(', 'also'],\n",
       " ['(', 'also', 'known'],\n",
       " ['also', 'known', 'as'],\n",
       " ['known', 'as', 'amber'],\n",
       " ['as', 'amber', ')'],\n",
       " ['amber', ')', ','],\n",
       " [')', ',', 'and'],\n",
       " [',', 'and', 'green'],\n",
       " ['and', 'green', 'arranged'],\n",
       " ['green', 'arranged', 'vertically'],\n",
       " ['arranged', 'vertically', 'or'],\n",
       " ['vertically', 'or', 'horizontally'],\n",
       " ['or', 'horizontally', 'in'],\n",
       " ['horizontally', 'in', 'that'],\n",
       " ['in', 'that', 'order'],\n",
       " ['that', 'order', '.'],\n",
       " ['order', '.', 'Although'],\n",
       " ['.', 'Although', 'this'],\n",
       " ['Although', 'this', 'is'],\n",
       " ['this', 'is', 'internationally'],\n",
       " ['is', 'internationally', 'standardised'],\n",
       " ['internationally', 'standardised', ','],\n",
       " ['standardised', ',', 'variations'],\n",
       " [',', 'variations', 'exist'],\n",
       " ['variations', 'exist', 'on'],\n",
       " ['exist', 'on', 'national'],\n",
       " ['on', 'national', 'and'],\n",
       " ['national', 'and', 'local'],\n",
       " ['and', 'local', 'scales'],\n",
       " ['local', 'scales', 'as'],\n",
       " ['scales', 'as', 'to'],\n",
       " ['as', 'to', 'traffic'],\n",
       " ['to', 'traffic', 'light'],\n",
       " ['traffic', 'light', 'sequences'],\n",
       " ['light', 'sequences', 'and'],\n",
       " ['sequences', 'and', 'laws'],\n",
       " ['and', 'laws', '.']]"
      ]
     },
     "execution_count": 16,
     "metadata": {},
     "output_type": "execute_result"
    }
   ],
   "source": [
    "n_grams([word_tokenize(corpus[0])], 3)"
   ]
  },
  {
   "cell_type": "code",
   "execution_count": 37,
   "id": "e7f8cd61-bfec-4e4a-b0f4-47e8696f1fdd",
   "metadata": {},
   "outputs": [
    {
     "data": {
      "text/plain": [
       "(56, 56)"
      ]
     },
     "execution_count": 37,
     "metadata": {},
     "output_type": "execute_result"
    }
   ],
   "source": [
    "# Create a count matrix should be vocab size x vocab size\n",
    "preprocessing = Word_Preprocess()\n",
    "preprocessing.text_preprocess(corpus[0])\n",
    "\n",
    "\n",
    "vocab_list = list(vocab(corpus))\n",
    "vocab_size = len(vocab_list)\n",
    "count_matrix = np.zeros((vocab_size, vocab_size))\n",
    "\n",
    "for i in range(vocab_size):\n",
    "    temp_dict = {word: 0 for word in vocab_list}\n",
    "    for j in range(vocab_size):\n",
    "        \n",
    "        "
   ]
  }
 ],
 "metadata": {
  "kernelspec": {
   "display_name": "Python 3 (ipykernel)",
   "language": "python",
   "name": "python3"
  },
  "language_info": {
   "codemirror_mode": {
    "name": "ipython",
    "version": 3
   },
   "file_extension": ".py",
   "mimetype": "text/x-python",
   "name": "python",
   "nbconvert_exporter": "python",
   "pygments_lexer": "ipython3",
   "version": "3.10.11"
  }
 },
 "nbformat": 4,
 "nbformat_minor": 5
}
