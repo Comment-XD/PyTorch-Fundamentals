{
 "cells": [
  {
   "cell_type": "code",
   "execution_count": 1,
   "id": "1795dc8a-68be-4f52-bccf-e52ede7ac660",
   "metadata": {},
   "outputs": [],
   "source": [
    "import re"
   ]
  },
  {
   "cell_type": "code",
   "execution_count": 18,
   "id": "297cd813-99e2-4fcd-a0eb-47897ee68e1c",
   "metadata": {},
   "outputs": [
    {
     "data": {
      "text/plain": [
       "'woodchuckwwwww'"
      ]
     },
     "execution_count": 18,
     "metadata": {},
     "output_type": "execute_result"
    }
   ],
   "source": [
    "word = \"Woodchuck12345\"\n",
    "\n",
    "\n",
    "# The Two sentences below are the same\n",
    "re.sub(\"[wW0-9]\", \"w\", word)\n",
    "\n",
    "re.sub(\"[wW\\d]\", \"w\", word)"
   ]
  },
  {
   "cell_type": "code",
   "execution_count": 38,
   "id": "28651fb6-73ab-4d64-863d-06721dae1220",
   "metadata": {},
   "outputs": [
    {
     "data": {
      "text/plain": [
       "',,!'"
      ]
     },
     "execution_count": 38,
     "metadata": {},
     "output_type": "execute_result"
    }
   ],
   "source": [
    "# Convenient Aliases\n",
    "\n",
    "word = \"Today I was at a huge birthday pizza party with my friends Jake and Paul\"\n",
    "\n",
    "re.sub(\"\\s\", \"\", word) # removes whitespace\n",
    "\n",
    "word = \"Today, I was celebrating my birthday, and all my friends and family came to celebrate too!\"\n",
    "\n",
    "re.sub(r\"[\\w\\s]\", \"\", word)"
   ]
  },
  {
   "cell_type": "code",
   "execution_count": 50,
   "id": "223458ea-dbca-476a-b23b-853e69e88333",
   "metadata": {},
   "outputs": [
    {
     "data": {
      "text/plain": [
       "[' the ']"
      ]
     },
     "execution_count": 50,
     "metadata": {},
     "output_type": "execute_result"
    }
   ],
   "source": [
    "word = \"The the other Theology\"\n",
    "\n",
    "re.findall(r\"\\W[tT]he\\W\", word)"
   ]
  },
  {
   "cell_type": "code",
   "execution_count": 70,
   "id": "c4a620a8-52c1-4d94-bf13-b0f9df3ca94e",
   "metadata": {},
   "outputs": [
    {
     "data": {
      "text/plain": [
       "<re.Match object; span=(0, 38), match='the faster they ate, the faster we ate'>"
      ]
     },
     "execution_count": 70,
     "metadata": {},
     "output_type": "execute_result"
    }
   ],
   "source": [
    "word = \"the faster they ate, the faster we ate\"\n",
    "\n",
    "x = re.search(r\"the (.*)er they (.*), the \\1er we \\2\", word)\n",
    "x"
   ]
  },
  {
   "cell_type": "code",
   "execution_count": 75,
   "id": "1790dcbf-116b-44bb-be9d-bfad84445fde",
   "metadata": {},
   "outputs": [],
   "source": [
    "word = \"some cats like some cats\"\n",
    "\n",
    "x = re.search(\"(?:some|a few) (people|cats) like some \\1\", word)\n",
    "x"
   ]
  }
 ],
 "metadata": {
  "kernelspec": {
   "display_name": "Python 3 (ipykernel)",
   "language": "python",
   "name": "python3"
  },
  "language_info": {
   "codemirror_mode": {
    "name": "ipython",
    "version": 3
   },
   "file_extension": ".py",
   "mimetype": "text/x-python",
   "name": "python",
   "nbconvert_exporter": "python",
   "pygments_lexer": "ipython3",
   "version": "3.10.11"
  }
 },
 "nbformat": 4,
 "nbformat_minor": 5
}
