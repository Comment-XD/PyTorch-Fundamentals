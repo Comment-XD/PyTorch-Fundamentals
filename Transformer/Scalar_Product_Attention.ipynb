{
 "cells": [
  {
   "cell_type": "code",
   "execution_count": 3,
   "id": "709c106c-f9e7-48a6-af59-835c88dcd7b2",
   "metadata": {},
   "outputs": [],
   "source": [
    "import pandas as pd\n",
    "import numpy as np\n",
    "import torch\n",
    "import torch.functional as F\n",
    "import torch.nn as nn"
   ]
  },
  {
   "cell_type": "code",
   "execution_count": 43,
   "id": "8b7b14e3-cb74-4c97-9809-fecd93d31eeb",
   "metadata": {},
   "outputs": [],
   "source": [
    "class Scalar_Product_Attention(nn.Module):\n",
    "    def __init__(self, shape:tuple, normalized: bool=True):\n",
    "        super().__init__()\n",
    "        \n",
    "        self.query_weights = nn.Parameter(torch.rand(shape))\n",
    "        self.value_weights = nn.Parameter(torch.rand(shape))\n",
    "        self.key_weights = nn.Parameter(torch.rand(shape))\n",
    "\n",
    "        self.normalized = normalized\n",
    "    \n",
    "    def forward(self, x: torch.Tensor):\n",
    "\n",
    "        query_matrix = x @ self.query_weights\n",
    "        value_matrix = x @ self.value_weights\n",
    "        key_matrix =  x @ self.key_weights\n",
    "        \n",
    "        dot_product = query_matrix @ key_matrix.T\n",
    "\n",
    "        if self.normalized:\n",
    "            dot_product = torch.divide(dot_product, torch.sqrt(key_matrix.size))\n",
    "                \n",
    "        softmax_dot_product = torch.nn.functional.softmax(dot_product, dim=1)\n",
    "\n",
    "        attention_score = softmax_dot_product @ value_matrix\n",
    "\n",
    "        return attention_score"
   ]
  },
  {
   "cell_type": "code",
   "execution_count": 40,
   "id": "e60c8774-b57f-44bd-b5d3-dc477cb9bbb6",
   "metadata": {},
   "outputs": [],
   "source": [
    "scalar_product_attention = Scalar_Product_Attention((2,2), normalized=False)"
   ]
  },
  {
   "cell_type": "code",
   "execution_count": 17,
   "id": "39e8b2b9-e480-4664-bee9-b3a7c6b5fcd6",
   "metadata": {},
   "outputs": [
    {
     "data": {
      "text/plain": [
       "Parameter containing:\n",
       "tensor([[0.9998, 0.6929],\n",
       "        [0.8881, 0.5199]], requires_grad=True)"
      ]
     },
     "execution_count": 17,
     "metadata": {},
     "output_type": "execute_result"
    }
   ],
   "source": [
    "scalar_product_attention.query_weights\n",
    "scalar_product_attention.value_weights\n",
    "scalar_product_attention.key_weights"
   ]
  },
  {
   "cell_type": "code",
   "execution_count": 18,
   "id": "9adf5ac6-a68e-4b72-97ef-b4cff09c2790",
   "metadata": {},
   "outputs": [
    {
     "data": {
      "text/plain": [
       "torch.Size([2, 2])"
      ]
     },
     "execution_count": 18,
     "metadata": {},
     "output_type": "execute_result"
    }
   ],
   "source": [
    "scalar_product_attention.query_weights.size()\n",
    "scalar_product_attention.value_weights.size()\n",
    "scalar_product_attention.key_weights.size()"
   ]
  },
  {
   "cell_type": "code",
   "execution_count": 46,
   "id": "0171e8fb-2b3d-4393-9349-baa88d05bd0a",
   "metadata": {},
   "outputs": [
    {
     "data": {
      "text/plain": [
       "tensor([[0.7761, 0.6186],\n",
       "        [0.7742, 0.6172]], grad_fn=<MmBackward0>)"
      ]
     },
     "execution_count": 46,
     "metadata": {},
     "output_type": "execute_result"
    }
   ],
   "source": [
    "scalar_product_attention.forward(torch.rand(2,2))"
   ]
  }
 ],
 "metadata": {
  "kernelspec": {
   "display_name": "Python 3 (ipykernel)",
   "language": "python",
   "name": "python3"
  },
  "language_info": {
   "codemirror_mode": {
    "name": "ipython",
    "version": 3
   },
   "file_extension": ".py",
   "mimetype": "text/x-python",
   "name": "python",
   "nbconvert_exporter": "python",
   "pygments_lexer": "ipython3",
   "version": "3.10.11"
  }
 },
 "nbformat": 4,
 "nbformat_minor": 5
}
