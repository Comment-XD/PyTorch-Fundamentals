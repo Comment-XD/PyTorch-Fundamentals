{
 "cells": [
  {
   "cell_type": "markdown",
   "id": "931659a0",
   "metadata": {},
   "source": [
    "### Batching `from scratch`\n",
    "\n",
    "- This is my journey in understanding how to implement batching from scratch and not copy off from PyTorch\n",
    "\n",
    "1. **What is Batching `(Mini-batching)`**\n",
    "    - In the Machine Learning world, batching is where we divide a large dataset into smaller datasets to train on\n",
    "    - Allows the model to train effeciently while also be scalable\n",
    "    <br></br>\n",
    "2. **Determining the Batch Size**\n",
    "    - Determining the **`Batch Size`** results in varying results from the learning model\n",
    "    <br></br>\n",
    "    1. Small Batches\n",
    "       - Small Batches allows the learning model to understand the entire data fully\n",
    "       - Downside of this is that the model requires more time ot train\n",
    "       <br></br>\n",
    "    2. Big Batches \n",
    "        - Bigger Batches allows the learning model to learn much faster\n",
    "        - Downside is it will not fully umderstand the data"
   ]
  },
  {
   "cell_type": "code",
   "execution_count": 39,
   "id": "b269f3ad",
   "metadata": {},
   "outputs": [],
   "source": [
    "import numpy as np\n",
    "import torch"
   ]
  },
  {
   "cell_type": "markdown",
   "id": "8f3adc25",
   "metadata": {},
   "source": [
    "Using `torch.manual_seed` for consistent results\n",
    "<br></br>\n",
    "_Creating a dataset that has 1000 -> **`10x10 images`**_"
   ]
  },
  {
   "cell_type": "code",
   "execution_count": 14,
   "id": "e5540428",
   "metadata": {},
   "outputs": [
    {
     "data": {
      "text/plain": [
       "tensor([0.8823, 0.9150, 0.3829, 0.9593, 0.3904, 0.6009, 0.2566, 0.7936, 0.9408,\n",
       "        0.1332])"
      ]
     },
     "execution_count": 14,
     "metadata": {},
     "output_type": "execute_result"
    }
   ],
   "source": [
    "torch.manual_seed(42)\n",
    "\n",
    "\n",
    "dataset = torch.rand(1000,10,10)\n",
    "# len(dataset)\n",
    "dataset[0]"
   ]
  },
  {
   "cell_type": "markdown",
   "id": "afec5e8e",
   "metadata": {},
   "source": [
    "### Create a Batching Function\n",
    "\n",
    "- dataset parameter = the dataset you want to batch\n",
    "- batch_size = the length of each batch "
   ]
  },
  {
   "cell_type": "code",
   "execution_count": 37,
   "id": "3d389756",
   "metadata": {},
   "outputs": [],
   "source": [
    "mini_batch_dataset = []\n",
    "\n",
    "def batching(dataset, batch_size):\n",
    "    m = len(dataset)\n",
    "    for i in range(0, m, batch_size):\n",
    "        mini_batch_dataset.append(dataset[i: i + batch_size].numpy())"
   ]
  },
  {
   "cell_type": "code",
   "execution_count": 38,
   "id": "cf55e3ac",
   "metadata": {},
   "outputs": [
    {
     "data": {
      "text/plain": [
       "(100, 10, 10, 10)"
      ]
     },
     "execution_count": 38,
     "metadata": {},
     "output_type": "execute_result"
    }
   ],
   "source": [
    "batching(dataset, 10)\n",
    "# np.array(mini_batch_dataset)\n",
    "np.array(mini_batch_dataset).shape"
   ]
  }
 ],
 "metadata": {
  "kernelspec": {
   "display_name": "Python 3 (ipykernel)",
   "language": "python",
   "name": "python3"
  },
  "language_info": {
   "codemirror_mode": {
    "name": "ipython",
    "version": 3
   },
   "file_extension": ".py",
   "mimetype": "text/x-python",
   "name": "python",
   "nbconvert_exporter": "python",
   "pygments_lexer": "ipython3",
   "version": "3.10.11"
  }
 },
 "nbformat": 4,
 "nbformat_minor": 5
}
