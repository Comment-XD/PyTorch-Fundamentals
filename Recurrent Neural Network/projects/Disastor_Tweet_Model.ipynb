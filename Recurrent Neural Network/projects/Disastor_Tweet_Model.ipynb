{
 "cells": [
  {
   "cell_type": "code",
   "execution_count": 13,
   "id": "af1ded7e-4b93-4335-9299-879c9c956fb2",
   "metadata": {},
   "outputs": [
    {
     "name": "stdout",
     "output_type": "stream",
     "text": [
      "WARNING:tensorflow:From C:\\Users\\Brand\\project_env\\lib\\site-packages\\keras\\src\\losses.py:2976: The name tf.losses.sparse_softmax_cross_entropy is deprecated. Please use tf.compat.v1.losses.sparse_softmax_cross_entropy instead.\n",
      "\n"
     ]
    }
   ],
   "source": [
    "import torch\n",
    "import torch.nn as nn\n",
    "\n",
    "import nltk\n",
    "from tokenization import Word_Preprocess\n",
    "\n",
    "from nltk.corpus import stopwords\n",
    "from nltk.tokenize import word_tokenize\n",
    "from nltk.stem.porter import PorterStemmer\n",
    "\n",
    "from sklearn.model_selection import train_test_split\n",
    "import matplotlib.pyplot as plt\n",
    "\n",
    "import pandas as pd\n",
    "import numpy as np\n",
    "from pathlib import Path\n",
    "\n",
    "import seaborn as sns\n",
    "\n",
    "import keras\n",
    "from keras.preprocessing.text import Tokenizer\n",
    "from keras.utils import pad_sequences\n",
    "\n",
    "import re\n",
    "import string"
   ]
  },
  {
   "cell_type": "code",
   "execution_count": 4,
   "id": "3a155b98-d0fd-47a1-8ef5-f48be8d6e771",
   "metadata": {},
   "outputs": [
    {
     "data": {
      "text/html": [
       "<div>\n",
       "<style scoped>\n",
       "    .dataframe tbody tr th:only-of-type {\n",
       "        vertical-align: middle;\n",
       "    }\n",
       "\n",
       "    .dataframe tbody tr th {\n",
       "        vertical-align: top;\n",
       "    }\n",
       "\n",
       "    .dataframe thead th {\n",
       "        text-align: right;\n",
       "    }\n",
       "</style>\n",
       "<table border=\"1\" class=\"dataframe\">\n",
       "  <thead>\n",
       "    <tr style=\"text-align: right;\">\n",
       "      <th></th>\n",
       "      <th>id</th>\n",
       "      <th>keyword</th>\n",
       "      <th>location</th>\n",
       "      <th>text</th>\n",
       "      <th>target</th>\n",
       "    </tr>\n",
       "  </thead>\n",
       "  <tbody>\n",
       "    <tr>\n",
       "      <th>0</th>\n",
       "      <td>1</td>\n",
       "      <td>NaN</td>\n",
       "      <td>NaN</td>\n",
       "      <td>Our Deeds are the Reason of this #earthquake M...</td>\n",
       "      <td>1</td>\n",
       "    </tr>\n",
       "    <tr>\n",
       "      <th>1</th>\n",
       "      <td>4</td>\n",
       "      <td>NaN</td>\n",
       "      <td>NaN</td>\n",
       "      <td>Forest fire near La Ronge Sask. Canada</td>\n",
       "      <td>1</td>\n",
       "    </tr>\n",
       "    <tr>\n",
       "      <th>2</th>\n",
       "      <td>5</td>\n",
       "      <td>NaN</td>\n",
       "      <td>NaN</td>\n",
       "      <td>All residents asked to 'shelter in place' are ...</td>\n",
       "      <td>1</td>\n",
       "    </tr>\n",
       "    <tr>\n",
       "      <th>3</th>\n",
       "      <td>6</td>\n",
       "      <td>NaN</td>\n",
       "      <td>NaN</td>\n",
       "      <td>13,000 people receive #wildfires evacuation or...</td>\n",
       "      <td>1</td>\n",
       "    </tr>\n",
       "    <tr>\n",
       "      <th>4</th>\n",
       "      <td>7</td>\n",
       "      <td>NaN</td>\n",
       "      <td>NaN</td>\n",
       "      <td>Just got sent this photo from Ruby #Alaska as ...</td>\n",
       "      <td>1</td>\n",
       "    </tr>\n",
       "  </tbody>\n",
       "</table>\n",
       "</div>"
      ],
      "text/plain": [
       "   id keyword location                                               text  \\\n",
       "0   1     NaN      NaN  Our Deeds are the Reason of this #earthquake M...   \n",
       "1   4     NaN      NaN             Forest fire near La Ronge Sask. Canada   \n",
       "2   5     NaN      NaN  All residents asked to 'shelter in place' are ...   \n",
       "3   6     NaN      NaN  13,000 people receive #wildfires evacuation or...   \n",
       "4   7     NaN      NaN  Just got sent this photo from Ruby #Alaska as ...   \n",
       "\n",
       "   target  \n",
       "0       1  \n",
       "1       1  \n",
       "2       1  \n",
       "3       1  \n",
       "4       1  "
      ]
     },
     "execution_count": 4,
     "metadata": {},
     "output_type": "execute_result"
    }
   ],
   "source": [
    "disaster_tweet_data = pd.read_csv(r\"C:\\Users\\Brand\\project_env\\PyTorch-Fundamentals\\PyTorch Recurrent Neural Network\\data\\Disaster Tweet Dataset.csv\")\n",
    "disaster_tweet_data.head()"
   ]
  },
  {
   "cell_type": "code",
   "execution_count": 8,
   "id": "9dacdde4-174b-4347-80f0-23cf0408d21f",
   "metadata": {},
   "outputs": [
    {
     "data": {
      "text/plain": [
       "<Axes: xlabel='target', ylabel='count'>"
      ]
     },
     "execution_count": 8,
     "metadata": {},
     "output_type": "execute_result"
    },
    {
     "data": {
      "image/png": "[encoded data removed]",
      "text/plain": [
       "<Figure size 640x480 with 1 Axes>"
      ]
     },
     "metadata": {},
     "output_type": "display_data"
    }
   ],
   "source": [
    "sns.barplot(disaster_tweet_data.target.value_counts())"
   ]
  },
  {
   "cell_type": "code",
   "execution_count": 9,
   "id": "10fdd848-e5fb-4cee-9797-f3d710606ec6",
   "metadata": {},
   "outputs": [],
   "source": [
    "word_processor = Word_Preprocess()\n",
    "disaster_tweet_data.text = disaster_tweet_data.text.apply(word_processor.text_preprocess)"
   ]
  },
  {
   "cell_type": "code",
   "execution_count": 53,
   "id": "e9eef248-9065-426d-9d21-847f3f9fd7df",
   "metadata": {},
   "outputs": [
    {
     "data": {
      "text/plain": [
       "'deeds reason earthquake may allah forgive us '"
      ]
     },
     "execution_count": 53,
     "metadata": {},
     "output_type": "execute_result"
    }
   ],
   "source": [
    "disaster_tweet_data.text[0]"
   ]
  },
  {
   "cell_type": "code",
   "execution_count": 43,
   "id": "0cc30eb9-ceca-49d9-86b0-cd90e4caaa92",
   "metadata": {},
   "outputs": [],
   "source": [
    "X = disaster_tweet_data.text\n",
    "y = disaster_tweet_data.target\n",
    "\n",
    "X_train, X_test, y_train, y_test = train_test_split(X,y, test_size=0.2, random_state=42)"
   ]
  },
  {
   "cell_type": "code",
   "execution_count": 44,
   "id": "7e0020c7-99af-4c7a-80a6-b188b49354bf",
   "metadata": {},
   "outputs": [],
   "source": [
    "word_tokenizer = Tokenizer()\n",
    "word_tokenizer.fit_on_texts(X_train)"
   ]
  },
  {
   "cell_type": "code",
   "execution_count": 45,
   "id": "81f555a4-b838-49e5-a2f7-65886e920700",
   "metadata": {},
   "outputs": [],
   "source": [
    "X_train = word_tokenizer.texts_to_sequences(X_train)\n",
    "X_test = word_tokenizer.texts_to_sequences(X_test)"
   ]
  },
  {
   "cell_type": "code",
   "execution_count": 46,
   "id": "d31add45-a3a7-4679-9367-7f835fa682df",
   "metadata": {},
   "outputs": [],
   "source": [
    "vocab_length = len(word_tokenizer.word_index) + 1"
   ]
  },
  {
   "cell_type": "code",
   "execution_count": 47,
   "id": "805a8ed5-56ad-49d4-9d7e-a1564bc24f3c",
   "metadata": {},
   "outputs": [],
   "source": [
    "maxlen = 100\n",
    "\n",
    "X_train = pad_sequences(X_train, padding='post', maxlen=maxlen)\n",
    "X_test = pad_sequences(X_test, padding='post', maxlen=maxlen)"
   ]
  },
  {
   "cell_type": "code",
   "execution_count": 48,
   "id": "69ea9c33-a902-49e4-b6b6-899405e9f15c",
   "metadata": {},
   "outputs": [],
   "source": [
    "embeddings_dictionary = {}\n",
    "glove_file = open(r\"C:\\Users\\Brand\\project_env\\PyTorch-Fundamentals\\PyTorch Recurrent Neural Network\\embedding weights\\a2_glove.6B.100d.txt\", encoding=\"utf8\")\n",
    "\n",
    "for line in glove_file:\n",
    "    records = line.split()\n",
    "    word = records[0]\n",
    "    vector_dimensions = np.asarray(records[1:], dtype='float32')\n",
    "    embeddings_dictionary [word] = vector_dimensions\n",
    "glove_file.close()"
   ]
  },
  {
   "cell_type": "code",
   "execution_count": 49,
   "id": "01f43024-2894-489d-bca6-15556562497a",
   "metadata": {},
   "outputs": [],
   "source": [
    "embedding_matrix = np.zeros((vocab_length, 100))\n",
    "for word, index in word_tokenizer.word_index.items():\n",
    "    embedding_vector = embeddings_dictionary.get(word)\n",
    "    if embedding_vector is not None:\n",
    "        embedding_matrix[index] = embedding_vector"
   ]
  },
  {
   "cell_type": "code",
   "execution_count": 78,
   "id": "b1276da3-b72a-44b1-bbbb-b98eeccaf9ac",
   "metadata": {},
   "outputs": [],
   "source": [
    "snn_model = keras.Sequential()\n",
    "embedding_layer = keras.layers.Embedding(vocab_length, 100, weights=[embedding_matrix], input_length=maxlen , trainable=False)\n",
    "\n",
    "snn_model.add(embedding_layer)\n",
    "snn_model.add(keras.layers.Flatten())\n",
    "snn_model.add(keras.layers.Dropout(0.2))\n",
    "snn_model.add(keras.layers.Dense(1, activation='sigmoid'))"
   ]
  },
  {
   "cell_type": "raw",
   "id": "b8a02d16-3ce7-4ec5-ba07-fc27a4817b2a",
   "metadata": {},
   "source": [
    "snn_model.compile(optimizer='adam', loss='binary_crossentropy', metrics=['acc'])\n",
    "snn_model = snn_model.fit(X_train, y_train, batch_size=32, epochs=10, verbose=1, validation_split=0.2)"
   ]
  },
  {
   "cell_type": "code",
   "execution_count": 93,
   "id": "52d6222a-2e64-4fad-a154-fe756c5a7443",
   "metadata": {},
   "outputs": [],
   "source": [
    "lstm_model = keras.Sequential()\n",
    "embedding_layer = keras.layers.Embedding(vocab_length, 100, weights=[embedding_matrix], input_length=maxlen , trainable=False)\n",
    "\n",
    "lstm_model.add(embedding_layer)\n",
    "\n",
    "lstm_model.add(keras.layers.Bidirectional(keras.layers.LSTM(64)))\n",
    "lstm_model.add(keras.layers.Dropout(0.4))\n",
    "lstm_model.add(keras.layers.Dense(1, activation='sigmoid'))"
   ]
  },
  {
   "cell_type": "code",
   "execution_count": 94,
   "id": "5ee6ca52-6657-4ad9-affe-45f0375feac0",
   "metadata": {},
   "outputs": [
    {
     "name": "stdout",
     "output_type": "stream",
     "text": [
      "Model: \"sequential_23\"\n",
      "_________________________________________________________________\n",
      " Layer (type)                Output Shape              Param #   \n",
      "=================================================================\n",
      " embedding_23 (Embedding)    (None, 100, 100)          1884300   \n",
      "                                                                 \n",
      " bidirectional_6 (Bidirecti  (None, 128)               84480     \n",
      " onal)                                                           \n",
      "                                                                 \n",
      " dropout_14 (Dropout)        (None, 128)               0         \n",
      "                                                                 \n",
      " dense_21 (Dense)            (None, 1)                 129       \n",
      "                                                                 \n",
      "=================================================================\n",
      "Total params: 1968909 (7.51 MB)\n",
      "Trainable params: 84609 (330.50 KB)\n",
      "Non-trainable params: 1884300 (7.19 MB)\n",
      "_________________________________________________________________\n",
      "None\n"
     ]
    }
   ],
   "source": [
    "lstm_model.compile(optimizer='adam', loss='binary_crossentropy', metrics=['acc'])\n",
    "\n",
    "print(lstm_model.summary())"
   ]
  },
  {
   "cell_type": "code",
   "execution_count": 95,
   "id": "ed369604-65da-4d37-a73b-37277327d240",
   "metadata": {},
   "outputs": [
    {
     "name": "stdout",
     "output_type": "stream",
     "text": [
      "Epoch 1/10\n",
      "77/77 [==============================] - 9s 71ms/step - loss: 0.5183 - acc: 0.7619 - val_loss: 0.4820 - val_acc: 0.7816\n",
      "Epoch 2/10\n",
      "77/77 [==============================] - 5s 58ms/step - loss: 0.4431 - acc: 0.8077 - val_loss: 0.4805 - val_acc: 0.7865\n",
      "Epoch 3/10\n",
      "77/77 [==============================] - 4s 57ms/step - loss: 0.4170 - acc: 0.8132 - val_loss: 0.4569 - val_acc: 0.7906\n",
      "Epoch 4/10\n",
      "77/77 [==============================] - 4s 57ms/step - loss: 0.4043 - acc: 0.8210 - val_loss: 0.4468 - val_acc: 0.7956\n",
      "Epoch 5/10\n",
      "77/77 [==============================] - 4s 55ms/step - loss: 0.3903 - acc: 0.8317 - val_loss: 0.4545 - val_acc: 0.8005\n",
      "Epoch 6/10\n",
      "77/77 [==============================] - 4s 54ms/step - loss: 0.3787 - acc: 0.8313 - val_loss: 0.4518 - val_acc: 0.7972\n",
      "Epoch 7/10\n",
      "77/77 [==============================] - 5s 61ms/step - loss: 0.3657 - acc: 0.8442 - val_loss: 0.4734 - val_acc: 0.7849\n",
      "Epoch 8/10\n",
      "77/77 [==============================] - 4s 56ms/step - loss: 0.3577 - acc: 0.8493 - val_loss: 0.4636 - val_acc: 0.8038\n",
      "Epoch 9/10\n",
      "77/77 [==============================] - 4s 57ms/step - loss: 0.3425 - acc: 0.8559 - val_loss: 0.4597 - val_acc: 0.7997\n",
      "Epoch 10/10\n",
      "77/77 [==============================] - 4s 54ms/step - loss: 0.3310 - acc: 0.8606 - val_loss: 0.4845 - val_acc: 0.8021\n"
     ]
    }
   ],
   "source": [
    "lstm_model_history = lstm_model.fit(X_train, y_train, batch_size=64, epochs=10, verbose=1, validation_split=0.2)"
   ]
  },
  {
   "cell_type": "code",
   "execution_count": null,
   "id": "9b31cfed-36fa-444c-afd5-cf3ff51c9685",
   "metadata": {},
   "outputs": [],
   "source": []
  }
 ],
 "metadata": {
  "kernelspec": {
   "display_name": "Python 3 (ipykernel)",
   "language": "python",
   "name": "python3"
  },
  "language_info": {
   "codemirror_mode": {
    "name": "ipython",
    "version": 3
   },
   "file_extension": ".py",
   "mimetype": "text/x-python",
   "name": "python",
   "nbconvert_exporter": "python",
   "pygments_lexer": "ipython3",
   "version": "3.10.11"
  }
 },
 "nbformat": 4,
 "nbformat_minor": 5
}
