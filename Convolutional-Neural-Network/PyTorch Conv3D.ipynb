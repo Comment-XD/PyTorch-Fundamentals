{
 "cells": [
  {
   "cell_type": "markdown",
   "id": "7f43497f-af4b-43ed-94fb-f636dbc3d26c",
   "metadata": {},
   "source": [
    "#### nn.Conv3D\n",
    "- Same concepts as Conv2D "
   ]
  },
  {
   "cell_type": "code",
   "execution_count": 31,
   "id": "418de8d6-601b-4985-9a31-9de3d67306f2",
   "metadata": {},
   "outputs": [
    {
     "name": "stdout",
     "output_type": "stream",
     "text": [
      "WARNING:tensorflow:From C:\\Users\\Brand\\project_env\\lib\\site-packages\\keras\\src\\losses.py:2976: The name tf.losses.sparse_softmax_cross_entropy is deprecated. Please use tf.compat.v1.losses.sparse_softmax_cross_entropy instead.\n",
      "\n"
     ]
    }
   ],
   "source": [
    "import torch\n",
    "import torch.nn as nn\n",
    "\n",
    "import tensorflow as tf"
   ]
  },
  {
   "cell_type": "code",
   "execution_count": 86,
   "id": "fdec9740-e186-4e56-9b4c-e82079f19e8b",
   "metadata": {},
   "outputs": [
    {
     "name": "stdout",
     "output_type": "stream",
     "text": [
      "torch.Size([1, 16, 45, 54, 45])\n"
     ]
    },
    {
     "ename": "TypeError",
     "evalue": "Forward_Conv.__init__() takes 1 positional argument but 2 were given",
     "output_type": "error",
     "traceback": [
      "\u001b[1;31m---------------------------------------------------------------------------\u001b[0m",
      "\u001b[1;31mTypeError\u001b[0m                                 Traceback (most recent call last)",
      "Cell \u001b[1;32mIn[86], line 87\u001b[0m\n\u001b[0;32m     84\u001b[0m mri_2 \u001b[38;5;241m=\u001b[39m Sub_Cohort_4()\n\u001b[0;32m     86\u001b[0m \u001b[38;5;28mprint\u001b[39m(mri(imgs)\u001b[38;5;241m.\u001b[39msize())\n\u001b[1;32m---> 87\u001b[0m \u001b[38;5;28mprint\u001b[39m(\u001b[43mmri_1\u001b[49m\u001b[43m(\u001b[49m\u001b[43mimgs\u001b[49m\u001b[43m)\u001b[49m\u001b[38;5;241m.\u001b[39msize())\n\u001b[0;32m     88\u001b[0m \u001b[38;5;28mprint\u001b[39m(mri_2(imgs)\u001b[38;5;241m.\u001b[39msize())\n",
      "File \u001b[1;32m~\\project_env\\lib\\site-packages\\torch\\nn\\modules\\module.py:1511\u001b[0m, in \u001b[0;36mModule._wrapped_call_impl\u001b[1;34m(self, *args, **kwargs)\u001b[0m\n\u001b[0;32m   1509\u001b[0m     \u001b[38;5;28;01mreturn\u001b[39;00m \u001b[38;5;28mself\u001b[39m\u001b[38;5;241m.\u001b[39m_compiled_call_impl(\u001b[38;5;241m*\u001b[39margs, \u001b[38;5;241m*\u001b[39m\u001b[38;5;241m*\u001b[39mkwargs)  \u001b[38;5;66;03m# type: ignore[misc]\u001b[39;00m\n\u001b[0;32m   1510\u001b[0m \u001b[38;5;28;01melse\u001b[39;00m:\n\u001b[1;32m-> 1511\u001b[0m     \u001b[38;5;28;01mreturn\u001b[39;00m \u001b[38;5;28mself\u001b[39m\u001b[38;5;241m.\u001b[39m_call_impl(\u001b[38;5;241m*\u001b[39margs, \u001b[38;5;241m*\u001b[39m\u001b[38;5;241m*\u001b[39mkwargs)\n",
      "File \u001b[1;32m~\\project_env\\lib\\site-packages\\torch\\nn\\modules\\module.py:1520\u001b[0m, in \u001b[0;36mModule._call_impl\u001b[1;34m(self, *args, **kwargs)\u001b[0m\n\u001b[0;32m   1515\u001b[0m \u001b[38;5;66;03m# If we don't have any hooks, we want to skip the rest of the logic in\u001b[39;00m\n\u001b[0;32m   1516\u001b[0m \u001b[38;5;66;03m# this function, and just call forward.\u001b[39;00m\n\u001b[0;32m   1517\u001b[0m \u001b[38;5;28;01mif\u001b[39;00m \u001b[38;5;129;01mnot\u001b[39;00m (\u001b[38;5;28mself\u001b[39m\u001b[38;5;241m.\u001b[39m_backward_hooks \u001b[38;5;129;01mor\u001b[39;00m \u001b[38;5;28mself\u001b[39m\u001b[38;5;241m.\u001b[39m_backward_pre_hooks \u001b[38;5;129;01mor\u001b[39;00m \u001b[38;5;28mself\u001b[39m\u001b[38;5;241m.\u001b[39m_forward_hooks \u001b[38;5;129;01mor\u001b[39;00m \u001b[38;5;28mself\u001b[39m\u001b[38;5;241m.\u001b[39m_forward_pre_hooks\n\u001b[0;32m   1518\u001b[0m         \u001b[38;5;129;01mor\u001b[39;00m _global_backward_pre_hooks \u001b[38;5;129;01mor\u001b[39;00m _global_backward_hooks\n\u001b[0;32m   1519\u001b[0m         \u001b[38;5;129;01mor\u001b[39;00m _global_forward_hooks \u001b[38;5;129;01mor\u001b[39;00m _global_forward_pre_hooks):\n\u001b[1;32m-> 1520\u001b[0m     \u001b[38;5;28;01mreturn\u001b[39;00m forward_call(\u001b[38;5;241m*\u001b[39margs, \u001b[38;5;241m*\u001b[39m\u001b[38;5;241m*\u001b[39mkwargs)\n\u001b[0;32m   1522\u001b[0m \u001b[38;5;28;01mtry\u001b[39;00m:\n\u001b[0;32m   1523\u001b[0m     result \u001b[38;5;241m=\u001b[39m \u001b[38;5;28;01mNone\u001b[39;00m\n",
      "Cell \u001b[1;32mIn[86], line 59\u001b[0m, in \u001b[0;36mSub_Cohort_3.forward\u001b[1;34m(self, x)\u001b[0m\n\u001b[0;32m     57\u001b[0m \u001b[38;5;28;01mdef\u001b[39;00m \u001b[38;5;21mforward\u001b[39m(\u001b[38;5;28mself\u001b[39m, x):\n\u001b[0;32m     58\u001b[0m     mri_conv \u001b[38;5;241m=\u001b[39m \u001b[38;5;28mself\u001b[39m\u001b[38;5;241m.\u001b[39mmri(x[\u001b[38;5;241m0\u001b[39m])\n\u001b[1;32m---> 59\u001b[0m     fdg_pet_conv \u001b[38;5;241m=\u001b[39m \u001b[38;5;28;43mself\u001b[39;49m\u001b[38;5;241;43m.\u001b[39;49m\u001b[43mfdg_pet\u001b[49m\u001b[43m(\u001b[49m\u001b[43mx\u001b[49m\u001b[43m[\u001b[49m\u001b[38;5;241;43m1\u001b[39;49m\u001b[43m]\u001b[49m\u001b[43m)\u001b[49m\n\u001b[0;32m     60\u001b[0m     amyloid_pet_conv \u001b[38;5;241m=\u001b[39m \u001b[38;5;28mself\u001b[39m\u001b[38;5;241m.\u001b[39mamyloid_pet(x[\u001b[38;5;241m2\u001b[39m])\n\u001b[0;32m     62\u001b[0m     concated_img \u001b[38;5;241m=\u001b[39m torch\u001b[38;5;241m.\u001b[39mcat([mri_conv, fdg_pet_conv, amyloid_pet_conv], dim\u001b[38;5;241m=\u001b[39m\u001b[38;5;241m1\u001b[39m)\n",
      "\u001b[1;31mTypeError\u001b[0m: Forward_Conv.__init__() takes 1 positional argument but 2 were given"
     ]
    }
   ],
   "source": [
    "img = torch.randn(1, 1, 91, 109, 91)\n",
    "img2 = torch.randn(1, 1, 91, 109, 91)\n",
    "img3 = torch.randn(1, 1, 91, 109, 91)\n",
    "\n",
    "imgs = [img, img2, img3]\n",
    "\n",
    "class Forward_Conv(nn.Module):\n",
    "    def __init__(self):\n",
    "        super().__init__()\n",
    "        \n",
    "        self.conv_0 = nn.Sequential(\n",
    "            nn.Conv3d(in_channels=1, out_channels=16, kernel_size=3, padding=\"same\"),\n",
    "            nn.ReLU(),\n",
    "            nn.BatchNorm3d(16))\n",
    "\n",
    "    def forward(self, x):\n",
    "        return self.conv_0(x)\n",
    "\n",
    "\n",
    "class Backward_Conv(nn.Module):\n",
    "    def __init__(self, input_channels):\n",
    "        super().__init__()\n",
    "        \n",
    "        self.backbone = nn.Sequential(\n",
    "            nn.Conv3d(in_channels=input_channels, out_channels=16, kernel_size=1, padding=\"same\"),\n",
    "            nn.Conv3d(in_channels=16, out_channels=16, kernel_size=3, padding=\"same\"),\n",
    "            nn.MaxPool3d(kernel_size=2))\n",
    "\n",
    "    def forward(self, x):\n",
    "        return self.backbone(x)\n",
    "\n",
    "class Sub_Cohort_2(nn.Module):\n",
    "    def __init__(self):\n",
    "        super().__init__()\n",
    "        \n",
    "        self.mri = Forward_Conv()\n",
    "        self.fdg_pet = Forward_Conv()\n",
    "        self.back_arch = Backward_Conv(32)\n",
    "        \n",
    "    def forward(self, x):\n",
    "        mri_conv = self.mri(x[0])\n",
    "        fdg_pet_conv = self.fdg_pet(x[1])\n",
    "\n",
    "        concated_img = torch.cat([mri_conv, fdg_pet_conv], dim=1)\n",
    "\n",
    "        return self.back_arch(concated_img)\n",
    "\n",
    "class Sub_Cohort_3(nn.Module):\n",
    "    def __init__(self):\n",
    "        super().__init__()\n",
    "        \n",
    "        self.mri = Forward_Conv()\n",
    "        self.fdg_pet = Forward_Conv\n",
    "        self.amyloid_pet = Forward_Conv()\n",
    "        self.back_arch = Backward_Conv(48)\n",
    "        \n",
    "    def forward(self, x):\n",
    "        mri_conv = self.mri(x[0])\n",
    "        fdg_pet_conv = self.fdg_pet(x[1])\n",
    "        amyloid_pet_conv = self.amyloid_pet(x[2])\n",
    "\n",
    "        concated_img = torch.cat([mri_conv, fdg_pet_conv, amyloid_pet_conv], dim=1)\n",
    "\n",
    "        return self.back_arch(concated_img)\n",
    "\n",
    "class Sub_Cohort_4(nn.Module):\n",
    "    def __init__(self):\n",
    "        super().__init__()\n",
    "        \n",
    "        self.mri = Forward_Conv()\n",
    "        self.amyloid_pet = Forward_Conv()\n",
    "        self.back_arch = Backward_Conv(48)\n",
    "        \n",
    "    def forward(self, x):\n",
    "        mri_conv = self.mri(x[0])\n",
    "        amyloid_pet_conv = self.amyloid_pet(x[2])\n",
    "\n",
    "        concated_img = torch.cat([mri_conv, amyloid_pet_conv], dim=1)\n",
    "\n",
    "        return self.back_arch(concated_img)\n",
    "    \n",
    "mri = Sub_Cohort_2()\n",
    "mri_1 = Sub_Cohort_3()\n",
    "mri_2 = Sub_Cohort_4()\n",
    "\n",
    "print(mri(imgs).size())\n",
    "print(mri_1(imgs).size())\n",
    "print(mri_2(imgs).size())\n",
    "\n"
   ]
  },
  {
   "cell_type": "code",
   "execution_count": 46,
   "id": "69f3c9cf-64bf-416d-bbab-0114abc3bc2d",
   "metadata": {},
   "outputs": [
    {
     "data": {
      "text/plain": [
       "torch.Size([2, 2, 2, 4])"
      ]
     },
     "execution_count": 46,
     "metadata": {},
     "output_type": "execute_result"
    }
   ],
   "source": [
    "x = torch.rand(2,2,2,2)\n",
    "y = torch.rand(2,2,2,2)\n",
    "\n",
    "torch.cat([x,y], dim=3).size()"
   ]
  }
 ],
 "metadata": {
  "kernelspec": {
   "display_name": "Python 3 (ipykernel)",
   "language": "python",
   "name": "python3"
  },
  "language_info": {
   "codemirror_mode": {
    "name": "ipython",
    "version": 3
   },
   "file_extension": ".py",
   "mimetype": "text/x-python",
   "name": "python",
   "nbconvert_exporter": "python",
   "pygments_lexer": "ipython3",
   "version": "3.10.11"
  }
 },
 "nbformat": 4,
 "nbformat_minor": 5
}
